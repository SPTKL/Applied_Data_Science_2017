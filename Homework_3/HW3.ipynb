{
 "cells": [
  {
   "cell_type": "markdown",
   "metadata": {},
   "source": [
    "# ADS, fall 2017. Homework 3"
   ]
  },
  {
   "cell_type": "markdown",
   "metadata": {},
   "source": [
    "### Q1 (10 points). P-values and hypothesis testing\n",
    "Suppose that a multiple regression with 10 regressors gave the following p-values for each of them (the value below are NOT in percents yet):\n",
    "\n",
    "0.02, 0.1, 3e-15, 0.5, 0.04, 0.001, 0.06, 0.03, 0.045, 5e-3.\n",
    "\n",
    "For how many regressors you would reject the null-hypothesis that their corresponding regression coefficient is zero? Please explain."
   ]
  },
  {
   "cell_type": "markdown",
   "metadata": {},
   "source": [
    "**Answer: Suppose alpha = 0.05, then we reject all the regressors with p-value less than 0.05, hence there are 8 of them**"
   ]
  },
  {
   "cell_type": "markdown",
   "metadata": {},
   "source": [
    "### Q2 (15 points). Confidence intervals\n",
    "Assume we perform a regression and get an estimate 100 for the slope coefficient for the regressor of interest. Select all statements that can not be true for its confidence intervals:\n",
    "\n",
    "a. 99%-conficence interval is [99.99,100.01]\n",
    "\n",
    "b. 95%-confidence interval is [-300, 300]\n",
    "\n",
    "c. 98%-confidence interval is [95, 105], while 90%-confidence interval is [90, 110].\n",
    "\n",
    "d. 99%-confidence interval is [99,100]\n",
    "\n",
    "Explain your choices"
   ]
  },
  {
   "cell_type": "markdown",
   "metadata": {},
   "source": [
    "**Answer: b, d, c, first of all, 100 should be the mean of the confidence interval, while the mean of b,d are clearly not 100. Second, 98% confidence interval should be larger than 90% confidence interval, hence c doesn't follow**"
   ]
  },
  {
   "cell_type": "markdown",
   "metadata": {},
   "source": [
    "### Q3 (15 points). \n",
    "\n",
    "A linear regression model is fit over a dataset with 181 observations and 'n' features. The estimate for the regression coefficient for one of the features is 911.0964 while its standard error is 344.185.\n",
    "\n",
    "What will be the \n",
    "a) 95, 99 and 90% confidence intervals? \n",
    "b) p-values?"
   ]
  },
  {
   "cell_type": "code",
   "execution_count": 1,
   "metadata": {},
   "outputs": [
    {
     "name": "stderr",
     "output_type": "stream",
     "text": [
      "C:\\Users\\caoba\\Anaconda3\\lib\\site-packages\\statsmodels\\compat\\pandas.py:56: FutureWarning: The pandas.core.datetools module is deprecated and will be removed in a future version. Please use the pandas.tseries module instead.\n",
      "  from pandas.core import datetools\n",
      "C:\\Users\\caoba\\Anaconda3\\lib\\site-packages\\sklearn\\cross_validation.py:44: DeprecationWarning: This module was deprecated in version 0.18 in favor of the model_selection module into which all the refactored classes and functions are moved. Also note that the interface of the new CV iterators are different from that of this module. This module will be removed in 0.20.\n",
      "  \"This module will be removed in 0.20.\", DeprecationWarning)\n"
     ]
    }
   ],
   "source": [
    "import pandas as pd\n",
    "import numpy as np\n",
    "%matplotlib inline\n",
    "import matplotlib.pyplot as plt\n",
    "from scipy import stats\n",
    "from scipy.stats import t\n",
    "from scipy.stats import norm\n",
    "import statsmodels.formula.api as smf\n",
    "import statsmodels.api as sm\n",
    "from sklearn.linear_model import LinearRegression\n",
    "# PCA module\n",
    "from sklearn.decomposition import PCA\n",
    "from sklearn.cross_validation import train_test_split\n",
    "from mpl_toolkits.mplot3d import Axes3D\n",
    "from sklearn import datasets"
   ]
  },
  {
   "cell_type": "code",
   "execution_count": 2,
   "metadata": {
    "collapsed": true
   },
   "outputs": [],
   "source": [
    "n = 181\n",
    "se = 344.185 \n",
    "coef = 911.0964"
   ]
  },
  {
   "cell_type": "code",
   "execution_count": 3,
   "metadata": {
    "collapsed": true
   },
   "outputs": [],
   "source": [
    "t005 = t.ppf(1-0.05, n-1)\n",
    "t001 = t.ppf(1-0.01, n-1)\n",
    "t010 = t.ppf(1-0.10, n-1)"
   ]
  },
  {
   "cell_type": "code",
   "execution_count": 4,
   "metadata": {},
   "outputs": [
    {
     "name": "stdout",
     "output_type": "stream",
     "text": [
      "95% confidence interval: (868.7982989969438, 953.39450100305623)\n",
      "99% confidence interval: (851.04672808557052, 971.14607191442951)\n",
      "90% confidence interval: (878.18960168780097, 944.00319831219906)\n"
     ]
    }
   ],
   "source": [
    "print('95% confidence interval:',(coef - se*t005/np.sqrt(n), coef + se*t005/np.sqrt(n)))\n",
    "print('99% confidence interval:',(coef - se*t001/np.sqrt(n), coef + se*t001/np.sqrt(n)))\n",
    "print('90% confidence interval:',(coef - se*t010/np.sqrt(n), coef + se*t010/np.sqrt(n)))"
   ]
  },
  {
   "cell_type": "markdown",
   "metadata": {},
   "source": [
    "### Q4.(ACS Data Set, 30pts)\n",
    "\n",
    "We'll be using the ACS dataset provided below.\n",
    "\n",
    "Survey:           ACS 2015 (5-Year Estimates)\n",
    "Dataset:          Social Explorer Tables:  ACS 2015 (5-Year Estimates)\n",
    "\n",
    "**VARIABLE DESCRIPTIONS:** (Data was collected in 2015)\n",
    "\n",
    "Tables:\n",
    "\n",
    "      1. Population Density (per Sq. Mile)\n",
    "         Universe:  Total Population\n",
    "         Name:      T2\n",
    "         Variables:\n",
    "            T002_001:   Total Population\n",
    "            T002_002:   Population Density (Per Sq. Mile)\n",
    "            T002_003:   Area (Land)\n",
    "\n",
    "\n",
    "      2. Average Household Size\n",
    "         Universe:  Occupied Households\n",
    "         Name:      T21\n",
    "         Variables:\n",
    "            T021_001:   Average Household Size\n",
    "\n",
    "\n",
    "\n",
    "      3. Median Household Income (In <DollarYear> Inflation Adjusted Dollars)\n",
    "         Universe:  Households\n",
    "         Name:      T57\n",
    "         Variables:\n",
    "            T057_001:   Median Household Income (In 2015 Inflation Adjusted Dollars)\n",
    "\n",
    "\n",
    "      4. Per Capita Income (In <DollarYear> Inflation Adjusted Dollars)\n",
    "         Universe:  Total Population\n",
    "         Name:      T83\n",
    "         Variables:\n",
    "            T083_001:   Per Capita Income (In 2015 Inflation Adjusted Dollars)\n",
    "\n",
    " \n",
    "      5. Median Gross Rent\n",
    "          Universe:  Renter-occupied housing units paying cash rent\n",
    "          Name:      T104\n",
    "          Variables:\n",
    "             T104_001:   Median Gross Rent\n",
    "\n",
    "\n",
    "      6. Ratio of Income in 2015 to Poverty Level\n",
    "          Universe:  Population for whom poverty status Is determined\n",
    "          Name:      T117\n",
    "          Variables:\n",
    "             T117_001:   Population for Whom Poverty Status Is Determined:\n",
    "\n",
    "      7. Average Commute to Work (in Min)\n",
    "          Universe:  Average Commute to Work (in min)\n",
    "          Name:      T147\n",
    "          Variables:\n",
    "             T147_001:   Average Commute to Work (in Min)\n",
    "\n",
    "\n",
    "Run the regression modeling the median household income through all the features above and analyse its statistics. Based on the results, suppose X(s) is the predicted median household income for the household of the size s and if deltaX=X(s+1)-X(s) then calculate:\n",
    "* (a) What's the expected price E(X)?\n",
    "* (b) What's the probability that X > \\$15000?  \n",
    "* (c) What's the two-sided 80% confidence interval of X?\n",
    "* (d) What's the one-sided 98% confidence interval of X? Calculate the upper interval $[X_0, +\\infty)$,"
   ]
  },
  {
   "cell_type": "code",
   "execution_count": 5,
   "metadata": {},
   "outputs": [
    {
     "data": {
      "text/html": [
       "<div>\n",
       "<style>\n",
       "    .dataframe thead tr:only-child th {\n",
       "        text-align: right;\n",
       "    }\n",
       "\n",
       "    .dataframe thead th {\n",
       "        text-align: left;\n",
       "    }\n",
       "\n",
       "    .dataframe tbody tr th {\n",
       "        vertical-align: top;\n",
       "    }\n",
       "</style>\n",
       "<table border=\"1\" class=\"dataframe\">\n",
       "  <thead>\n",
       "    <tr style=\"text-align: right;\">\n",
       "      <th></th>\n",
       "      <th>Geo_FIPS</th>\n",
       "      <th>Geo_GEOID</th>\n",
       "      <th>Population_Density</th>\n",
       "      <th>Average_Household_Size</th>\n",
       "      <th>Median_Household_Income</th>\n",
       "      <th>Per_Capita_Income</th>\n",
       "      <th>Median_Value</th>\n",
       "      <th>Poverty_Status</th>\n",
       "      <th>Average_Commute_to_Work</th>\n",
       "    </tr>\n",
       "  </thead>\n",
       "  <tbody>\n",
       "    <tr>\n",
       "      <th>2</th>\n",
       "      <td>36061000202</td>\n",
       "      <td>14000US36061000202</td>\n",
       "      <td>67374.02</td>\n",
       "      <td>2.15</td>\n",
       "      <td>29684.0</td>\n",
       "      <td>27355.0</td>\n",
       "      <td>533600.0</td>\n",
       "      <td>7768</td>\n",
       "      <td>31.0</td>\n",
       "    </tr>\n",
       "    <tr>\n",
       "      <th>4</th>\n",
       "      <td>36061000600</td>\n",
       "      <td>14000US36061000600</td>\n",
       "      <td>128089.30</td>\n",
       "      <td>2.92</td>\n",
       "      <td>19863.0</td>\n",
       "      <td>12802.0</td>\n",
       "      <td>521200.0</td>\n",
       "      <td>12378</td>\n",
       "      <td>30.0</td>\n",
       "    </tr>\n",
       "    <tr>\n",
       "      <th>5</th>\n",
       "      <td>36061000700</td>\n",
       "      <td>14000US36061000700</td>\n",
       "      <td>89695.05</td>\n",
       "      <td>1.92</td>\n",
       "      <td>117841.0</td>\n",
       "      <td>89303.0</td>\n",
       "      <td>1035900.0</td>\n",
       "      <td>8794</td>\n",
       "      <td>25.0</td>\n",
       "    </tr>\n",
       "    <tr>\n",
       "      <th>6</th>\n",
       "      <td>36061000800</td>\n",
       "      <td>14000US36061000800</td>\n",
       "      <td>112643.90</td>\n",
       "      <td>2.63</td>\n",
       "      <td>27137.0</td>\n",
       "      <td>17426.0</td>\n",
       "      <td>588100.0</td>\n",
       "      <td>9465</td>\n",
       "      <td>33.0</td>\n",
       "    </tr>\n",
       "    <tr>\n",
       "      <th>7</th>\n",
       "      <td>36061000900</td>\n",
       "      <td>14000US36061000900</td>\n",
       "      <td>12507.00</td>\n",
       "      <td>2.14</td>\n",
       "      <td>147500.0</td>\n",
       "      <td>111599.0</td>\n",
       "      <td>1000000.0</td>\n",
       "      <td>1626</td>\n",
       "      <td>26.0</td>\n",
       "    </tr>\n",
       "  </tbody>\n",
       "</table>\n",
       "</div>"
      ],
      "text/plain": [
       "      Geo_FIPS           Geo_GEOID  Population_Density  \\\n",
       "2  36061000202  14000US36061000202            67374.02   \n",
       "4  36061000600  14000US36061000600           128089.30   \n",
       "5  36061000700  14000US36061000700            89695.05   \n",
       "6  36061000800  14000US36061000800           112643.90   \n",
       "7  36061000900  14000US36061000900            12507.00   \n",
       "\n",
       "   Average_Household_Size  Median_Household_Income  Per_Capita_Income  \\\n",
       "2                    2.15                  29684.0            27355.0   \n",
       "4                    2.92                  19863.0            12802.0   \n",
       "5                    1.92                 117841.0            89303.0   \n",
       "6                    2.63                  27137.0            17426.0   \n",
       "7                    2.14                 147500.0           111599.0   \n",
       "\n",
       "   Median_Value  Poverty_Status  Average_Commute_to_Work  \n",
       "2      533600.0            7768                     31.0  \n",
       "4      521200.0           12378                     30.0  \n",
       "5     1035900.0            8794                     25.0  \n",
       "6      588100.0            9465                     33.0  \n",
       "7     1000000.0            1626                     26.0  "
      ]
     },
     "execution_count": 5,
     "metadata": {},
     "output_type": "execute_result"
    }
   ],
   "source": [
    "df = pd.read_csv('file4.csv', index_col = 0)\n",
    "df.head()"
   ]
  },
  {
   "cell_type": "code",
   "execution_count": 6,
   "metadata": {},
   "outputs": [
    {
     "data": {
      "text/html": [
       "<table class=\"simpletable\">\n",
       "<caption>OLS Regression Results</caption>\n",
       "<tr>\n",
       "  <th>Dep. Variable:</th>    <td>Median_Household_Income</td> <th>  R-squared:         </th> <td>   0.832</td>\n",
       "</tr>\n",
       "<tr>\n",
       "  <th>Model:</th>                      <td>OLS</td>           <th>  Adj. R-squared:    </th> <td>   0.827</td>\n",
       "</tr>\n",
       "<tr>\n",
       "  <th>Method:</th>                <td>Least Squares</td>      <th>  F-statistic:       </th> <td>   182.6</td>\n",
       "</tr>\n",
       "<tr>\n",
       "  <th>Date:</th>                <td>Tue, 07 Nov 2017</td>     <th>  Prob (F-statistic):</th> <td>6.22e-83</td>\n",
       "</tr>\n",
       "<tr>\n",
       "  <th>Time:</th>                    <td>08:01:59</td>         <th>  Log-Likelihood:    </th> <td> -2585.8</td>\n",
       "</tr>\n",
       "<tr>\n",
       "  <th>No. Observations:</th>         <td>   229</td>          <th>  AIC:               </th> <td>   5186.</td>\n",
       "</tr>\n",
       "<tr>\n",
       "  <th>Df Residuals:</th>             <td>   222</td>          <th>  BIC:               </th> <td>   5210.</td>\n",
       "</tr>\n",
       "<tr>\n",
       "  <th>Df Model:</th>                 <td>     6</td>          <th>                     </th>     <td> </td>   \n",
       "</tr>\n",
       "<tr>\n",
       "  <th>Covariance Type:</th>         <td>nonrobust</td>        <th>                     </th>     <td> </td>   \n",
       "</tr>\n",
       "</table>\n",
       "<table class=\"simpletable\">\n",
       "<tr>\n",
       "             <td></td>                <th>coef</th>     <th>std err</th>      <th>t</th>      <th>P>|t|</th>  <th>[0.025</th>    <th>0.975]</th>  \n",
       "</tr>\n",
       "<tr>\n",
       "  <th>Intercept</th>               <td> 1.535e+04</td> <td> 1.24e+04</td> <td>    1.234</td> <td> 0.219</td> <td>-9165.448</td> <td> 3.99e+04</td>\n",
       "</tr>\n",
       "<tr>\n",
       "  <th>Population_Density</th>      <td>    0.0318</td> <td>    0.041</td> <td>    0.768</td> <td> 0.443</td> <td>   -0.050</td> <td>    0.113</td>\n",
       "</tr>\n",
       "<tr>\n",
       "  <th>Average_Household_Size</th>  <td> 1.121e+04</td> <td> 4621.474</td> <td>    2.426</td> <td> 0.016</td> <td> 2104.409</td> <td> 2.03e+04</td>\n",
       "</tr>\n",
       "<tr>\n",
       "  <th>Per_Capita_Income</th>       <td>    0.9073</td> <td>    0.049</td> <td>   18.392</td> <td> 0.000</td> <td>    0.810</td> <td>    1.005</td>\n",
       "</tr>\n",
       "<tr>\n",
       "  <th>Median_Value</th>            <td>    0.0043</td> <td>    0.004</td> <td>    1.085</td> <td> 0.279</td> <td>   -0.004</td> <td>    0.012</td>\n",
       "</tr>\n",
       "<tr>\n",
       "  <th>Poverty_Status</th>          <td>   -0.8155</td> <td>    0.603</td> <td>   -1.353</td> <td> 0.177</td> <td>   -2.003</td> <td>    0.372</td>\n",
       "</tr>\n",
       "<tr>\n",
       "  <th>Average_Commute_to_Work</th> <td> -612.3823</td> <td>  324.227</td> <td>   -1.889</td> <td> 0.060</td> <td>-1251.338</td> <td>   26.574</td>\n",
       "</tr>\n",
       "</table>\n",
       "<table class=\"simpletable\">\n",
       "<tr>\n",
       "  <th>Omnibus:</th>       <td>34.484</td> <th>  Durbin-Watson:     </th> <td>   2.067</td>\n",
       "</tr>\n",
       "<tr>\n",
       "  <th>Prob(Omnibus):</th> <td> 0.000</td> <th>  Jarque-Bera (JB):  </th> <td>  84.301</td>\n",
       "</tr>\n",
       "<tr>\n",
       "  <th>Skew:</th>          <td> 0.678</td> <th>  Prob(JB):          </th> <td>4.95e-19</td>\n",
       "</tr>\n",
       "<tr>\n",
       "  <th>Kurtosis:</th>      <td> 5.645</td> <th>  Cond. No.          </th> <td>9.98e+06</td>\n",
       "</tr>\n",
       "</table>"
      ],
      "text/plain": [
       "<class 'statsmodels.iolib.summary.Summary'>\n",
       "\"\"\"\n",
       "                               OLS Regression Results                              \n",
       "===================================================================================\n",
       "Dep. Variable:     Median_Household_Income   R-squared:                       0.832\n",
       "Model:                                 OLS   Adj. R-squared:                  0.827\n",
       "Method:                      Least Squares   F-statistic:                     182.6\n",
       "Date:                     Tue, 07 Nov 2017   Prob (F-statistic):           6.22e-83\n",
       "Time:                             08:01:59   Log-Likelihood:                -2585.8\n",
       "No. Observations:                      229   AIC:                             5186.\n",
       "Df Residuals:                          222   BIC:                             5210.\n",
       "Df Model:                                6                                         \n",
       "Covariance Type:                 nonrobust                                         \n",
       "===========================================================================================\n",
       "                              coef    std err          t      P>|t|      [0.025      0.975]\n",
       "-------------------------------------------------------------------------------------------\n",
       "Intercept                1.535e+04   1.24e+04      1.234      0.219   -9165.448    3.99e+04\n",
       "Population_Density          0.0318      0.041      0.768      0.443      -0.050       0.113\n",
       "Average_Household_Size   1.121e+04   4621.474      2.426      0.016    2104.409    2.03e+04\n",
       "Per_Capita_Income           0.9073      0.049     18.392      0.000       0.810       1.005\n",
       "Median_Value                0.0043      0.004      1.085      0.279      -0.004       0.012\n",
       "Poverty_Status             -0.8155      0.603     -1.353      0.177      -2.003       0.372\n",
       "Average_Commute_to_Work  -612.3823    324.227     -1.889      0.060   -1251.338      26.574\n",
       "==============================================================================\n",
       "Omnibus:                       34.484   Durbin-Watson:                   2.067\n",
       "Prob(Omnibus):                  0.000   Jarque-Bera (JB):               84.301\n",
       "Skew:                           0.678   Prob(JB):                     4.95e-19\n",
       "Kurtosis:                       5.645   Cond. No.                     9.98e+06\n",
       "==============================================================================\n",
       "\n",
       "Warnings:\n",
       "[1] Standard Errors assume that the covariance matrix of the errors is correctly specified.\n",
       "[2] The condition number is large, 9.98e+06. This might indicate that there are\n",
       "strong multicollinearity or other numerical problems.\n",
       "\"\"\""
      ]
     },
     "execution_count": 6,
     "metadata": {},
     "output_type": "execute_result"
    }
   ],
   "source": [
    "reg = smf.ols('Median_Household_Income ~Population_Density + Average_Household_Size + Per_Capita_Income + Median_Value + Poverty_Status + Average_Commute_to_Work', df).fit()\n",
    "reg.summary()"
   ]
  },
  {
   "cell_type": "code",
   "execution_count": 7,
   "metadata": {},
   "outputs": [
    {
     "data": {
      "text/plain": [
       "92247.847161572106"
      ]
     },
     "execution_count": 7,
     "metadata": {},
     "output_type": "execute_result"
    }
   ],
   "source": [
    "x = reg.predict()\n",
    "n, min_max, mean, var, skew, kurt = stats.describe(x)\n",
    "np.mean(reg.predict())"
   ]
  },
  {
   "cell_type": "code",
   "execution_count": 11,
   "metadata": {},
   "outputs": [
    {
     "data": {
      "text/plain": [
       "1.0"
      ]
     },
     "execution_count": 11,
     "metadata": {},
     "output_type": "execute_result"
    }
   ],
   "source": [
    "len(df[df.Median_Household_Income >15000])/len(df.Median_Household_Income)"
   ]
  },
  {
   "cell_type": "markdown",
   "metadata": {},
   "source": [
    "since all media household income is larger than 15000, P(X>15000) = 1"
   ]
  },
  {
   "cell_type": "code",
   "execution_count": 14,
   "metadata": {},
   "outputs": [
    {
     "data": {
      "text/plain": [
       "(36904.6976182156, 147590.99670492861)"
      ]
     },
     "execution_count": 14,
     "metadata": {},
     "output_type": "execute_result"
    }
   ],
   "source": [
    "norm.interval(0.80,loc=mean,scale=np.sqrt(var))"
   ]
  },
  {
   "cell_type": "code",
   "execution_count": 17,
   "metadata": {},
   "outputs": [
    {
     "name": "stdout",
     "output_type": "stream",
     "text": [
      "one sided 98% interval is 3557.74982842 to infinity\n"
     ]
    }
   ],
   "source": [
    "interv = norm.interval(0.96,loc=mean,scale=np.sqrt(var))\n",
    "print('one sided 98% interval is', interv[0], 'to infinity')"
   ]
  },
  {
   "cell_type": "markdown",
   "metadata": {},
   "source": [
    "### Q5 (30 points). Data visualization using PCA\n",
    "We'll be using the breast cancer dataset from sklearn for this problem.\n",
    "\n",
    "a) For the given labeled data perform PCA and visualize (using bar-plot) the fraction of variance explained by each principle components.\n",
    "\n",
    "b) Visualize the observations along the first two principle components with colors depending on the label."
   ]
  },
  {
   "cell_type": "code",
   "execution_count": 10,
   "metadata": {
    "collapsed": true
   },
   "outputs": [],
   "source": [
    "from sklearn.datasets import load_breast_cancer\n",
    "X, y = load_breast_cancer(return_X_y=True)"
   ]
  },
  {
   "cell_type": "code",
   "execution_count": 11,
   "metadata": {},
   "outputs": [
    {
     "name": "stdout",
     "output_type": "stream",
     "text": [
      "(569, 30) 569\n"
     ]
    }
   ],
   "source": [
    "print (X.shape, len(y))"
   ]
  },
  {
   "cell_type": "code",
   "execution_count": 12,
   "metadata": {},
   "outputs": [
    {
     "data": {
      "image/png": "[encoded data removed]",
      "text/plain": [
       "<matplotlib.figure.Figure at 0x24f9efbce48>"
      ]
     },
     "metadata": {},
     "output_type": "display_data"
    }
   ],
   "source": [
    "n = X.shape[1]\n",
    "pca = PCA(n)\n",
    "pca.fit_transform(X)\n",
    "eigenvalues = pca.explained_variance_ratio_\n",
    "plt.bar(np.arange(n), eigenvalues)\n",
    "plt.xlabel(\"Dimensionality\")\n",
    "plt.ylabel(\"Explained Variance Ratio\")\n",
    "plt.xlim((0,20))\n",
    "plt.show()"
   ]
  },
  {
   "cell_type": "code",
   "execution_count": 13,
   "metadata": {
    "collapsed": true
   },
   "outputs": [],
   "source": [
    "X_ = pca.fit_transform(X, y)"
   ]
  },
  {
   "cell_type": "code",
   "execution_count": 14,
   "metadata": {},
   "outputs": [
    {
     "data": {
      "image/png": "[encoded data removed]",
      "text/plain": [
       "<matplotlib.figure.Figure at 0x24fa0076e10>"
      ]
     },
     "metadata": {},
     "output_type": "display_data"
    }
   ],
   "source": [
    "fig = plt.figure(1, figsize=(8, 6))\n",
    "ax = Axes3D(fig, elev=-150, azim=110)\n",
    "ax.scatter(X_[:,0], X_[:, 1], y, c=y,\n",
    "           cmap=plt.cm.cool)\n",
    "ax.set_title(\"First three PCs\")\n",
    "ax.set_xlabel(\"1st eigenvector\")\n",
    "ax.w_xaxis.set_ticklabels([])\n",
    "ax.set_ylabel(\"2nd eigenvector\")\n",
    "ax.w_yaxis.set_ticklabels([])\n",
    "ax.set_zlabel(\"y\")\n",
    "ax.w_zaxis.set_ticklabels([])\n",
    "\n",
    "plt.show()"
   ]
  },
  {
   "cell_type": "code",
   "execution_count": null,
   "metadata": {
    "collapsed": true
   },
   "outputs": [],
   "source": []
  }
 ],
 "metadata": {
  "kernelspec": {
   "display_name": "Python 3",
   "language": "python",
   "name": "python3"
  },
  "language_info": {
   "codemirror_mode": {
    "name": "ipython",
    "version": 3
   },
   "file_extension": ".py",
   "mimetype": "text/x-python",
   "name": "python",
   "nbconvert_exporter": "python",
   "pygments_lexer": "ipython3",
   "version": "3.6.1"
  }
 },
 "nbformat": 4,
 "nbformat_minor": 1
}
