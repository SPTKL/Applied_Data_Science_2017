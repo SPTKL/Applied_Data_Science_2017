{
 "cells": [
  {
   "cell_type": "markdown",
   "metadata": {},
   "source": [
    "# IMPORTANT"
   ]
  },
  {
   "cell_type": "code",
   "execution_count": 3,
   "metadata": {
    "collapsed": true
   },
   "outputs": [],
   "source": [
    "# The notebook should be named as ADS_HW5_<net_id>\n",
    "# 10 pts will be deducted if the naming convention is not followed"
   ]
  },
  {
   "cell_type": "markdown",
   "metadata": {},
   "source": [
    "# Task 1 (5 pts) \n",
    "\n",
    "\n",
    "a) Provide a definition for the concept of a conjugate prior given the Bayesian learning model\n",
    "\n",
    "__ The prior and posterior are then called conjugate distributions, and the prior is called a conjugate prior for the likelihood function.__\n",
    "\n",
    "b) True or False:\n",
    "Selecting a Gaussian prior for a likelihood function that is Gaussian, will ensure that the posterior distribution is also Gaussian\n",
    "\n",
    "__ False, Gaussian * Gaussian does not lead to another Gaussian distribution. __"
   ]
  },
  {
   "cell_type": "markdown",
   "metadata": {},
   "source": [
    "# Task 2 (5 pts). \n",
    "\n",
    "\n",
    "1) In the Bayesian linear regression framework (True or False) \n",
    "\n",
    "    a) Using a Laplacian prior will lead to the Ridge Regression  (False)\n",
    "    \n",
    "    b) Using a Laplacian prior will lead to Lasso Regression (True)\n",
    "\n",
    "2) (True or False)  \n",
    "\n",
    "    a) Ridge can often help with feature selection  (True)\n",
    "    \n",
    "    b) Lasso can often help with feature selection  (True)"
   ]
  },
  {
   "cell_type": "markdown",
   "metadata": {},
   "source": [
    "# Task 3 (10 pts). \n",
    "Answer some questions about the properties of Lasso/Ridge:\n",
    "\n",
    "1.a) Which regression adds penalty equivalent to square of the magnitude of coefficients?  \n",
    "\n",
    "        Ridge\n",
    "        \n",
    "1.b) Which regression adds penalty  equivalent to absolute value of the magnitude of coefficients?\n",
    "\n",
    "        Lasso\n",
    "\n",
    "2) Which of the Lasso and Ridge regressions possess an analytic solution in the closed form?\n",
    "        \n",
    "        Ridge\n",
    "\n",
    "3) Which of the Lasso and Ridge regression is often use to completely eliminate coefficients for some of the regressors?\n",
    "\n",
    "        Lasso\n",
    "\n",
    "4) Which value of $\\lambda$ makes Lasso and Ridge identical to the ordinary least square regression?\n",
    "\n",
    "        0\n",
    "\n",
    "5) What dataset (training, validation or test) you would use to estimate the $\\lambda$ for Lasso or Ridge?\n",
    "\n",
    "        training\n",
    "\n",
    "# Extra Credit(50 pts to be applied towards this or any other homework)\n",
    "For a regression where the variables are highly correlated, which would you use, Lasso or Ridge and why?\n",
    "\n",
    "        Lasso, because Lasso will set the colinear variable coeficient to 0, \n",
    "        hence eliminating features that are highly correlated. "
   ]
  },
  {
   "cell_type": "markdown",
   "metadata": {},
   "source": [
    "# Task 4 (15 pts). \n",
    "Consider a Bayesian univariate linear regression $y\\sim {\\cal N}(wx,\\sigma^2)$ with a given $\\sigma=2$ and the prior $w\\sim {\\cal N}(4,2)$. Compute the posterior distribution after an observation $y=14,x=4$. After all, what is the probability of having $w<4$?\n",
    "\n",
    "\n"
   ]
  },
  {
   "cell_type": "markdown",
   "metadata": {},
   "source": [
    "$$\n",
    "p(w|y=y_i, x=x_i)\\sim p(y=y_i|w,x=x_i)p(w)\\sim e^{-\\frac{(y_i-w x_i)^2}{2\\sigma^2}-\\frac{(w-w^*)^2}{2(\\sigma^*)^2}}\\sim\n",
    "$$$$\n",
    "\\sim e^{-w^2 \\frac{x_i^2(\\sigma^*)^2+\\sigma^2}{2\\sigma^2(\\sigma^*)^2}+w \\frac{(\\sigma^*)^2 y_i x_i+\\sigma^2 w^*}{2\\sigma^2(\\sigma^*)^2}}\n",
    "\\sim e^{\\frac{\\left(w-\\frac{ \\sigma^{-2} y_i x_i +(\\sigma^*)^{-2} w^*}{ \\left(x_i^2\\sigma^{-2}+(\\sigma^*)^{-2}\\right)}\\right)^2}{\\frac{2 }{(\\sigma^*)^{-2}+x_i^2\\sigma^{-2}}}}\n",
    "$$\n",
    "\n",
    "__the posterior is when __\n",
    "\n",
    "$$\n",
    "y_i = 14, \n",
    "x_i = 4, \n",
    "w^* = 4, \n",
    "\\sigma^* = 2, \n",
    "$$"
   ]
  },
  {
   "cell_type": "markdown",
   "metadata": {},
   "source": [
    "__ the probability of having w < 4 is the cumulative probability function of the posterior __\n",
    "\n",
    "$$\n",
    "p(w<4|y=y_i, x=x_i) = \\int_{-\\infty}^4 p(w|y=y_i, x=x_i)\\,dw\n",
    "$$\n",
    "\n",
    "$$\n",
    "y_i = 14, \n",
    "x_i = 4, \n",
    "w^* = 4, \n",
    "\\sigma^* = 2, \n",
    "$$"
   ]
  },
  {
   "cell_type": "markdown",
   "metadata": {},
   "source": [
    "# Task 5 (20 pts)\n",
    "For the training and test sets provided below, train a linear regression of $y$ (last column) vs the rest of the columns of the table treated as regressors (intercept excluded) over the training set, apply it to the test set and report it's R2 performance over both - training and test set."
   ]
  },
  {
   "cell_type": "code",
   "execution_count": 20,
   "metadata": {},
   "outputs": [
    {
     "name": "stdout",
     "output_type": "stream",
     "text": [
      "Populating the interactive namespace from numpy and matplotlib\n"
     ]
    }
   ],
   "source": [
    "## Learn to use numpy - Will be more useful in future\n",
    "import pandas as pd\n",
    "import numpy as np\n",
    "%pylab inline\n",
    "import matplotlib.pyplot as plt\n",
    "#import Quandl\n",
    "import statsmodels.formula.api as smf\n",
    "# from pandas.stats.api import ols\n",
    "from sklearn import linear_model\n",
    "\n",
    "data_train=pd.read_csv(\"HW_train.csv\")\n",
    "data_test=pd.read_csv(\"HW_test.csv\")\n",
    "\n",
    "# Remove unwanted column\n",
    "data_train.drop('Unnamed: 0',axis=1, inplace=True)\n",
    "data_test.drop('Unnamed: 0',axis=1, inplace=True)"
   ]
  },
  {
   "cell_type": "code",
   "execution_count": 21,
   "metadata": {
    "collapsed": true
   },
   "outputs": [],
   "source": [
    "data_train.columns = list(map(lambda x: 'x' + str(x), data_train.columns))\n",
    "data_test.columns = list(map(lambda x: 'x' + str(x), data_test.columns))"
   ]
  },
  {
   "cell_type": "code",
   "execution_count": 22,
   "metadata": {
    "collapsed": true
   },
   "outputs": [],
   "source": [
    "result = smf.ols(formula = 'x40 ~ -1 + '+ '+'.join(data_train.columns[:-1]), data = data_train).fit()"
   ]
  },
  {
   "cell_type": "code",
   "execution_count": 23,
   "metadata": {
    "collapsed": true
   },
   "outputs": [],
   "source": [
    "# For displaying R^2 and linear model summary\n",
    "def modelEval(lm, test, key = 'Y'):\n",
    "    lmy = lm.predict(test)\n",
    "    y_err = lmy - test[key]\n",
    "    y_norm = test[key]-np.mean(test[key])\n",
    "    return 1 - y_err.dot(y_err)/y_norm.dot(y_norm)  # R2 w.r.t. test set"
   ]
  },
  {
   "cell_type": "code",
   "execution_count": 24,
   "metadata": {},
   "outputs": [
    {
     "name": "stdout",
     "output_type": "stream",
     "text": [
      "In sample R-squared: 1.000000\n",
      "Out of sample R-squared: -1.027964\n"
     ]
    }
   ],
   "source": [
    "print('In sample R-squared: %f'%result.rsquared)\n",
    "print('Out of sample R-squared: %f'%modelEval(result, data_test, key = 'x40'))"
   ]
  },
  {
   "cell_type": "markdown",
   "metadata": {},
   "source": [
    "# Task 6 (20 pts)\n",
    "Train Lasso and Ridge regressions using the training sample above with $\\lambda_{Ridge}=3000$ and $\\lambda_{Lasso}=30$ and report their performance over the test set."
   ]
  },
  {
   "cell_type": "code",
   "execution_count": 25,
   "metadata": {},
   "outputs": [
    {
     "name": "stdout",
     "output_type": "stream",
     "text": [
      "The R-squared we found for IS Ridge is: 0.919670798393811\n",
      "The R-squared we found for OS Ridge is: 0.5210781670825777\n",
      "The R-squared we found for IS Lasso is: 0.8781356842410998\n",
      "The R-squared we found for OS Lasso is: 0.6480046820153794\n"
     ]
    }
   ],
   "source": [
    "Lam_r = 3000\n",
    "Lam_l = 30\n",
    "\n",
    "Ridge=linear_model.Ridge(fit_intercept=True,alpha=Lam_r) #redo Ridge and Lasso with selected regularization parameter lambda\n",
    "Lasso=linear_model.Lasso(fit_intercept=True,alpha=Lam_l)\n",
    "\n",
    "X_train = data_train.iloc[:,:-1]\n",
    "y_train = data_train.iloc[:,-1]\n",
    "\n",
    "X_test = data_test.iloc[:,:-1]\n",
    "y_test = data_test.iloc[:,-1]\n",
    "\n",
    "Ridge.fit(X_train,y_train)\n",
    "Lasso.fit(X_train,y_train)\n",
    "\n",
    "#In sample\n",
    "p_IS = Ridge.predict(X_train)\n",
    "err_IS = p_IS-y_train\n",
    "R_2_IS_Ridge = 1-np.var(err_IS)/np.var(y_train)\n",
    "\n",
    "p_IS = Lasso.predict(X_train)\n",
    "err_IS = p_IS-y_train\n",
    "R_2_IS_Lasso = 1-np.var(err_IS)/np.var(y_train)\n",
    "\n",
    "Ridge_coef = Ridge.coef_\n",
    "Lasso_coef = Lasso.coef_\n",
    "\n",
    "#Out of sample \n",
    "p_OS=Ridge.predict(X_test)\n",
    "err_OS=p_OS-y_test\n",
    "R_2_OS_Ridge=1-np.var(err_OS)/np.var(y_test)\n",
    "\n",
    "p_OS=Lasso.predict(X_test)\n",
    "err_OS=p_OS-y_test\n",
    "R_2_OS_Lasso=1-np.var(err_OS)/np.var(y_test)\n",
    "\n",
    "#Reports\n",
    "print(\"The R-squared we found for IS Ridge is: {0}\".format(R_2_IS_Ridge))\n",
    "print(\"The R-squared we found for OS Ridge is: {0}\".format(R_2_OS_Ridge))\n",
    "print(\"The R-squared we found for IS Lasso is: {0}\".format(R_2_IS_Lasso))\n",
    "print(\"The R-squared we found for OS Lasso is: {0}\".format(R_2_OS_Lasso))\n"
   ]
  },
  {
   "cell_type": "markdown",
   "metadata": {},
   "source": [
    "\n",
    "# Task 7 (25 pts)\n",
    "a) For each $m=0,1,2,...39$ train OLS, Lasso and Ridge regressions(keep intercept) using the data from Task 5 above with $\\lambda_{Ridge}=3000$ and $\\lambda_{Lasso}=30$ using the first $m$ columns of the data tables as the regressors  \n",
    "i.e train the models by adding in a new variable each time. eg. Y~ x0, Y~x0+x1, Y~x0+x1+x2...Y~x0+x1+...+x39  \n",
    "\n",
    "b) Plot the in-sample (training) and out-of-sample (test) R2 for all three models on the same graph.  \n",
    "i.e (x-axis is number of regressors, y will be your R^2 for InSample & OutSample for each of the 3 models, all in one graph)\n"
   ]
  },
  {
   "cell_type": "code",
   "execution_count": 26,
   "metadata": {
    "collapsed": true
   },
   "outputs": [],
   "source": [
    "Number_variables=range(len(data_train.columns[:-1]))\n",
    "OLS_R_2_OS_F=[]\n",
    "OLS_R_2_IS_F=[]\n",
    "R_2_IS_Ridge = []\n",
    "R_2_IS_Lasso = []\n",
    "R_2_OS_Ridge = []\n",
    "R_2_OS_Lasso = []\n",
    "\n",
    "for i in Number_variables:    \n",
    "    lm = smf.ols(formula = 'x40 ~ '+ '+'.join(data_train.columns[:i+1]), data = data_train).fit()\n",
    "    R2 = modelEval(lm, data_test, 'x40')\n",
    "    \n",
    "    OLS_R_2_IS_F.append(lm.rsquared)\n",
    "    OLS_R_2_OS_F.append(R2 if R2 > 0 else 0)\n",
    "    \n",
    "    Ridge=linear_model.Ridge(fit_intercept=True,alpha=Lam_r)\n",
    "    Lasso=linear_model.Lasso(fit_intercept=True,alpha=Lam_l)\n",
    "    \n",
    "    X_train = data_train.iloc[:,:i+1]\n",
    "    y_train = data_train.iloc[:,-1]\n",
    "\n",
    "    X_test = data_test.iloc[:,:i+1]\n",
    "    y_test = data_test.iloc[:,-1]\n",
    "\n",
    "    Ridge.fit(X_train,y_train)\n",
    "    Lasso.fit(X_train,y_train)\n",
    "    \n",
    "    #In sample\n",
    "    p_IS = Ridge.predict(X_train)\n",
    "    err_IS = p_IS-y_train\n",
    "    R_2_IS_Ridge.append(1-np.var(err_IS)/np.var(y_train))\n",
    "\n",
    "    p_IS = Lasso.predict(X_train)\n",
    "    err_IS = p_IS-y_train\n",
    "    R_2_IS_Lasso.append(1-np.var(err_IS)/np.var(y_train))\n",
    "\n",
    "    #Out of sample \n",
    "    p_OS=Ridge.predict(X_test)\n",
    "    err_OS=p_OS-y_test\n",
    "    R_2_OS_Ridge.append(1-np.var(err_OS)/np.var(y_test))\n",
    "\n",
    "    p_OS=Lasso.predict(X_test)\n",
    "    err_OS=p_OS-y_test\n",
    "    R_2_OS_Lasso.append(1-np.var(err_OS)/np.var(y_test))"
   ]
  },
  {
   "cell_type": "code",
   "execution_count": 27,
   "metadata": {},
   "outputs": [
    {
     "data": {
      "image/png": "[encoded data removed]",
      "text/plain": [
       "<matplotlib.figure.Figure at 0x2b61a2e8c88>"
      ]
     },
     "metadata": {},
     "output_type": "display_data"
    }
   ],
   "source": [
    "plt.title('OS performance of OLS when we subsequently add variables')\n",
    "plt.plot(Number_variables,OLS_R_2_OS_F,'b',label='R_squared_OLS_OS')\n",
    "plt.plot(Number_variables,OLS_R_2_IS_F,'g',label='R_squared_OLS_IS')\n",
    "plt.plot(Number_variables,R_2_IS_Ridge,'r',label='R_2_IS_Ridge')\n",
    "plt.plot(Number_variables,R_2_IS_Lasso,'y',label='R_2_IS_Lasso')\n",
    "plt.plot(Number_variables,R_2_OS_Ridge,'k',label='R_2_OS_Ridge')\n",
    "plt.plot(Number_variables,R_2_OS_Lasso,'c',label='R_2_OS_Lasso')\n",
    "\n",
    "plt.legend(loc='lower left', fontsize = 'x-small')\n",
    "plt.xlabel('Number of independent variables')\n",
    "plt.ylabel('R-squared')\n",
    "plt.show()"
   ]
  },
  {
   "cell_type": "markdown",
   "metadata": {},
   "source": [
    "# Extracredit (100 pts of credit to be applied towards this or any other homework)\n",
    "Using a series of 10 random splits (cross-validation) of the training sample into approximately 70% training and 30% validation samples perform the selection of the optimal $\\lambda$ for Ridge and Lasso regression:   \n",
    "\n",
    "a) For each $\\lambda$ of an assumed sequence of $\\lambda$'s(take a random range) compute validation R2 for all the 10 splits and finally select the $\\lambda$ having the highest value for validation R2 for each split.  \n",
    "\n",
    "b) Visualize the dependence of the validation R2 over $\\lambda$s for Lasso and Ridge(x-axis = $\\lambda$s from sequence, y-axis = corresponding R^2, graph for each split)\n",
    "\n",
    "c) Report the R2 computed over the test set for the Lasso and Ridge trained over the entire training set with the selected optimal values of $\\lambda$ out of the 10 splits."
   ]
  },
  {
   "cell_type": "code",
   "execution_count": 28,
   "metadata": {
    "collapsed": true
   },
   "outputs": [],
   "source": [
    "data = pd.concat([data_train, data_test])"
   ]
  },
  {
   "cell_type": "code",
   "execution_count": 29,
   "metadata": {
    "collapsed": true
   },
   "outputs": [],
   "source": [
    "#Find the Alpha and report best test performance for Ridge/Lasso.\n",
    "def Regularization_fit_lambda(model, X, y, lambdas, t_size = 0.3, Graph=False, logl=False):\n",
    "    #model = 1-Ridge, 2-Lasso\n",
    "    #lambdas: a list of lambda values to try\n",
    "    #p: ratio of the validation sample size / total training size\n",
    "    #Graph: plot the graph of R^2 values for different lambda\n",
    "\n",
    "    R_2_OS=[]\n",
    "    X_train, X_valid, y_train, y_valid = train_test_split(X, y, test_size =  t_size) #not setting a random state here\n",
    "\n",
    "    if model==1:\n",
    "        RM = lambda a: linear_model.Ridge(fit_intercept=True, alpha=a)\n",
    "        model_label='Ridge'\n",
    "    else:\n",
    "        RM = lambda a: linear_model.Lasso(fit_intercept=True, alpha=a)\n",
    "        model_label='Lasso'\n",
    "    \n",
    "    best_R2 = -1\n",
    "    best_lambda = lambdas[0]\n",
    "    \n",
    "    for i in lambdas:\n",
    "        lm = RM(i)\n",
    "        lm.fit(X_train,y_train)  #fit the regularization model\n",
    "        y_predict=lm.predict(X_valid) #compute the prediction for the validation sample \n",
    "        err_OS=y_predict-y_valid\n",
    "        R_2_OS_=1-np.var(err_OS)/np.var(y_valid)\n",
    "        R_2_OS.append(R_2_OS_)\n",
    "        if R_2_OS_ > best_R2:\n",
    "            best_R2 = R_2_OS_\n",
    "            best_lambda = i\n",
    "    \n",
    "    if Graph==True:\n",
    "        plt.title('IS R-squared vs OS-R-squared for different Lambda')\n",
    "        if logl:\n",
    "            plt.xlabel('ln(Lambda)')\n",
    "            l=log(lambdas)\n",
    "            bl=log(best_lambda)\n",
    "        else:\n",
    "            plt.xlabel('Lambda')\n",
    "            l=lambdas\n",
    "            bl=best_lambda\n",
    "        plt.plot(l,R_2_OS,'b',label=model_label)\n",
    "        plt.legend(loc='upper right')\n",
    "        plt.ylabel('R-squared')\n",
    "        plt.axvline(bl,color='r',linestyle='--')\n",
    "\n",
    "        plt.show()\n",
    "    \n",
    "    return (best_lambda,best_R2)"
   ]
  },
  {
   "cell_type": "code",
   "execution_count": 35,
   "metadata": {},
   "outputs": [
    {
     "name": "stderr",
     "output_type": "stream",
     "text": [
      "C:\\Users\\caoba\\Anaconda3\\lib\\site-packages\\sklearn\\linear_model\\coordinate_descent.py:484: ConvergenceWarning: Objective did not converge. You might want to increase the number of iterations. Fitting data with very small alpha may cause precision problems.\n",
      "  ConvergenceWarning)\n"
     ]
    }
   ],
   "source": [
    "from sklearn.model_selection import train_test_split\n",
    "lambda_lasso = []\n",
    "lambda_ridge = []\n",
    "best_R2_lasso = []\n",
    "best_R2_ridge = []\n",
    "\n",
    "for i in range(10):\n",
    "    lambdas = np.exp(np.linspace(-20,20,500))\n",
    "    results_lasso = Regularization_fit_lambda(2,data.iloc[:,:-1],data.iloc[:,-1],lambdas, t_size = 0.3, Graph=False)\n",
    "    results_ridge = Regularization_fit_lambda(1,data.iloc[:,:-1],data.iloc[:,-1],lambdas, t_size = 0.3, Graph=False)\n",
    "    lambda_lasso.append(results_lasso[0])\n",
    "    lambda_ridge.append(results_ridge[0])\n",
    "    best_R2_lasso.append(results_lasso[1])\n",
    "    best_R2_ridge.append(results_ridge[1])"
   ]
  },
  {
   "cell_type": "code",
   "execution_count": 36,
   "metadata": {},
   "outputs": [
    {
     "data": {
      "text/plain": [
       "[<matplotlib.lines.Line2D at 0x2b61b5998d0>]"
      ]
     },
     "execution_count": 36,
     "metadata": {},
     "output_type": "execute_result"
    },
    {
     "data": {
      "image/png": "[encoded data removed]",
      "text/plain": [
       "<matplotlib.figure.Figure at 0x2b61a683d68>"
      ]
     },
     "metadata": {},
     "output_type": "display_data"
    }
   ],
   "source": [
    "plt.plot(lambda_lasso, best_R2_lasso, '.')"
   ]
  },
  {
   "cell_type": "code",
   "execution_count": 37,
   "metadata": {},
   "outputs": [
    {
     "data": {
      "text/plain": [
       "[<matplotlib.lines.Line2D at 0x2b61b635940>]"
      ]
     },
     "execution_count": 37,
     "metadata": {},
     "output_type": "execute_result"
    },
    {
     "data": {
      "image/png": "[encoded data removed]",
      "text/plain": [
       "<matplotlib.figure.Figure at 0x2b61b5c0a90>"
      ]
     },
     "metadata": {},
     "output_type": "display_data"
    }
   ],
   "source": [
    "plt.plot(lambda_ridge, best_R2_ridge, '.')"
   ]
  },
  {
   "cell_type": "code",
   "execution_count": 38,
   "metadata": {},
   "outputs": [
    {
     "data": {
      "text/plain": [
       "[0.7046222301042708,\n",
       " 0.8106432017713355,\n",
       " 0.8136546255037725,\n",
       " 0.8279149131137542,\n",
       " 0.7759054797622491,\n",
       " 0.8517059045363556,\n",
       " 0.6117001561533062,\n",
       " 0.6577295069119845,\n",
       " 0.7205115479210453,\n",
       " 0.7914812907147499]"
      ]
     },
     "execution_count": 38,
     "metadata": {},
     "output_type": "execute_result"
    }
   ],
   "source": [
    "best_R2_lasso "
   ]
  },
  {
   "cell_type": "code",
   "execution_count": 39,
   "metadata": {},
   "outputs": [
    {
     "data": {
      "text/plain": [
       "[0.7814035811925908,\n",
       " 0.8010377644306913,\n",
       " 0.8326996357850142,\n",
       " 0.7504154701925655,\n",
       " 0.793751702119219,\n",
       " 0.696401349692941,\n",
       " 0.7739935309156011,\n",
       " 0.6850093832352139,\n",
       " 0.7701780442564319,\n",
       " 0.7744089911636535]"
      ]
     },
     "execution_count": 39,
     "metadata": {},
     "output_type": "execute_result"
    }
   ],
   "source": [
    "best_R2_ridge "
   ]
  },
  {
   "cell_type": "code",
   "execution_count": null,
   "metadata": {
    "collapsed": true
   },
   "outputs": [],
   "source": []
  }
 ],
 "metadata": {
  "anaconda-cloud": {},
  "kernelspec": {
   "display_name": "Python 3",
   "language": "python",
   "name": "python3"
  },
  "language_info": {
   "codemirror_mode": {
    "name": "ipython",
    "version": 3
   },
   "file_extension": ".py",
   "mimetype": "text/x-python",
   "name": "python",
   "nbconvert_exporter": "python",
   "pygments_lexer": "ipython3",
   "version": "3.6.1"
  }
 },
 "nbformat": 4,
 "nbformat_minor": 1
}
