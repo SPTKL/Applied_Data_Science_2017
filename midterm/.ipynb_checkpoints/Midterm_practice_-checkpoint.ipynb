{
 "cells": [
  {
   "cell_type": "code",
   "execution_count": 69,
   "metadata": {
    "collapsed": true
   },
   "outputs": [],
   "source": [
    "import pandas as pd\n",
    "import numpy as np\n",
    "from sklearn.datasets import make_classification\n",
    "from sklearn.datasets import make_blobs\n",
    "from matplotlib.pylab import plt\n",
    "from sklearn.decomposition import PCA\n",
    "import statsmodels.formula.api as smf\n",
    "from sklearn.model_selection import train_test_split\n",
    "from sklearn.linear_model import LinearRegression\n",
    "%matplotlib inline\n",
    "import numpy as np"
   ]
  },
  {
   "cell_type": "markdown",
   "metadata": {},
   "source": [
    "# Part I. Crime statistics"
   ]
  },
  {
   "cell_type": "markdown",
   "metadata": {},
   "source": [
    "Crime Rate in 47 states of the USA with 13 explanatory variables  \n",
    "The crime rate (**Y**) in 47 states in the U.S. was reported together with possible factors that might influence it. The factors recorded are as follows;  \n",
    "X1 = the number of males aged 14 - 24 per 1000 of total state population  \n",
    "X2 = binary variable distinguishing southern states (X2 =1) from the rest (X2=0).  \n",
    "X3 = the mean number of years of schooling x 10 of the population, 25 years old and over  \n",
    "X4 = police expenditure (in dollars) per person by state and local government in 1960  \n",
    "X5 = police expenditure (in dollars) per person by state and local government in 1959  \n",
    "X6 = labour force participation rate per 1000 civilian urban males in the age group 14-24  \n",
    "X7 = the number of males per 1000 females  \n",
    "X8 = state population size in hundred thousands  \n",
    "X9 = unemployment rate of urban males per 1000 in the age group 14-24    \n",
    "X10 = unemployment rate of urban males per 1000 in the age group 35-59.  \n",
    "X11 = the median value of family income or transferable goods and assets (unit 10 dollars)  \n",
    "X12 = the number of families per 1000 earning below one-half of the median income.  "
   ]
  },
  {
   "cell_type": "code",
   "execution_count": 2,
   "metadata": {
    "collapsed": true
   },
   "outputs": [],
   "source": [
    "data = pd.read_excel('Crime.xlsx')"
   ]
  },
  {
   "cell_type": "code",
   "execution_count": 3,
   "metadata": {
    "collapsed": true
   },
   "outputs": [],
   "source": [
    "features = ['males','south','yrsSch','policExp60','policeExp59','labour',\n",
    "           'M/F','statePop','unemp14','unemp35','income','proverty']"
   ]
  },
  {
   "cell_type": "code",
   "execution_count": 4,
   "metadata": {},
   "outputs": [
    {
     "data": {
      "text/html": [
       "<div>\n",
       "<style>\n",
       "    .dataframe thead tr:only-child th {\n",
       "        text-align: right;\n",
       "    }\n",
       "\n",
       "    .dataframe thead th {\n",
       "        text-align: left;\n",
       "    }\n",
       "\n",
       "    .dataframe tbody tr th {\n",
       "        vertical-align: top;\n",
       "    }\n",
       "</style>\n",
       "<table border=\"1\" class=\"dataframe\">\n",
       "  <thead>\n",
       "    <tr style=\"text-align: right;\">\n",
       "      <th></th>\n",
       "      <th>X1</th>\n",
       "      <th>X2</th>\n",
       "      <th>X3</th>\n",
       "      <th>X4</th>\n",
       "      <th>X5</th>\n",
       "      <th>X6</th>\n",
       "      <th>X7</th>\n",
       "      <th>X8</th>\n",
       "      <th>X9</th>\n",
       "      <th>X10</th>\n",
       "      <th>X11</th>\n",
       "      <th>X12</th>\n",
       "      <th>Y</th>\n",
       "    </tr>\n",
       "  </thead>\n",
       "  <tbody>\n",
       "    <tr>\n",
       "      <th>0</th>\n",
       "      <td>151</td>\n",
       "      <td>1</td>\n",
       "      <td>91</td>\n",
       "      <td>58</td>\n",
       "      <td>56</td>\n",
       "      <td>510</td>\n",
       "      <td>950</td>\n",
       "      <td>33</td>\n",
       "      <td>108</td>\n",
       "      <td>41</td>\n",
       "      <td>394</td>\n",
       "      <td>261</td>\n",
       "      <td>79.1</td>\n",
       "    </tr>\n",
       "    <tr>\n",
       "      <th>1</th>\n",
       "      <td>143</td>\n",
       "      <td>0</td>\n",
       "      <td>113</td>\n",
       "      <td>103</td>\n",
       "      <td>95</td>\n",
       "      <td>583</td>\n",
       "      <td>1012</td>\n",
       "      <td>13</td>\n",
       "      <td>96</td>\n",
       "      <td>36</td>\n",
       "      <td>557</td>\n",
       "      <td>194</td>\n",
       "      <td>163.5</td>\n",
       "    </tr>\n",
       "    <tr>\n",
       "      <th>2</th>\n",
       "      <td>142</td>\n",
       "      <td>1</td>\n",
       "      <td>89</td>\n",
       "      <td>45</td>\n",
       "      <td>44</td>\n",
       "      <td>533</td>\n",
       "      <td>969</td>\n",
       "      <td>18</td>\n",
       "      <td>94</td>\n",
       "      <td>33</td>\n",
       "      <td>318</td>\n",
       "      <td>250</td>\n",
       "      <td>57.8</td>\n",
       "    </tr>\n",
       "    <tr>\n",
       "      <th>3</th>\n",
       "      <td>136</td>\n",
       "      <td>0</td>\n",
       "      <td>121</td>\n",
       "      <td>149</td>\n",
       "      <td>141</td>\n",
       "      <td>577</td>\n",
       "      <td>994</td>\n",
       "      <td>157</td>\n",
       "      <td>102</td>\n",
       "      <td>39</td>\n",
       "      <td>673</td>\n",
       "      <td>167</td>\n",
       "      <td>196.9</td>\n",
       "    </tr>\n",
       "    <tr>\n",
       "      <th>4</th>\n",
       "      <td>141</td>\n",
       "      <td>0</td>\n",
       "      <td>121</td>\n",
       "      <td>109</td>\n",
       "      <td>101</td>\n",
       "      <td>591</td>\n",
       "      <td>985</td>\n",
       "      <td>18</td>\n",
       "      <td>91</td>\n",
       "      <td>20</td>\n",
       "      <td>578</td>\n",
       "      <td>174</td>\n",
       "      <td>123.4</td>\n",
       "    </tr>\n",
       "  </tbody>\n",
       "</table>\n",
       "</div>"
      ],
      "text/plain": [
       "    X1  X2   X3   X4   X5   X6    X7   X8   X9  X10  X11  X12      Y\n",
       "0  151   1   91   58   56  510   950   33  108   41  394  261   79.1\n",
       "1  143   0  113  103   95  583  1012   13   96   36  557  194  163.5\n",
       "2  142   1   89   45   44  533   969   18   94   33  318  250   57.8\n",
       "3  136   0  121  149  141  577   994  157  102   39  673  167  196.9\n",
       "4  141   0  121  109  101  591   985   18   91   20  578  174  123.4"
      ]
     },
     "execution_count": 4,
     "metadata": {},
     "output_type": "execute_result"
    }
   ],
   "source": [
    "data.head()"
   ]
  },
  {
   "cell_type": "markdown",
   "metadata": {},
   "source": [
    "## Q1. Report the correlation coefficients between each feature and the output variable Y (crimes per 100.000)\n",
    "## Q2. Look at the impact of each feature separately (on all 47 observations)\n",
    "    # Fit bi-variate regressions and report the estimate as well as the p-values\n",
    "## Q3. Take for the further consideration only those which have correlation coefficient with Y above 60%\n",
    "    # Fit the multi-variate regression with them, report statistics\n",
    "## Q4. Run cross-validation with the regressors in Q3, report the Out-of-sample R2 (OS R2)\n",
    "    # Put 2/3 observations on average into training set and the remaining 1/3 into test set\n",
    "    # Run it 1000 times, obtain the average value"
   ]
  },
  {
   "cell_type": "code",
   "execution_count": 22,
   "metadata": {},
   "outputs": [
    {
     "name": "stdout",
     "output_type": "stream",
     "text": [
      "[-0.0894724  -0.09063696  0.32283487  0.68760446  0.66671414  0.18886635\n",
      "  0.21391426  0.33747406 -0.05047792  0.17732065  0.44131995 -0.17902373]\n"
     ]
    }
   ],
   "source": [
    "#1) \n",
    "def get_corr(a,b):\n",
    "    corr = np.corrcoef(a,b)\n",
    "    return(corr[0][1])\n",
    "\n",
    "corr_coef = np.empty(data.shape[1]-1)\n",
    "for i in range(12):\n",
    "    col_name = 'X'+str(i+1)\n",
    "    corr_coef[i] = get_corr(data[col_name], data.Y)\n",
    "    \n",
    "print(corr_coef)"
   ]
  },
  {
   "cell_type": "code",
   "execution_count": 26,
   "metadata": {
    "collapsed": true
   },
   "outputs": [],
   "source": [
    "length = data.shape[1]-1\n",
    "regression_info = {}\n",
    "\n",
    "for i in range(length): \n",
    "    info = {}\n",
    "    col_name = 'X'+str(i+1)\n",
    "    reg = smf.ols('Y ~ '+ col_name, data).fit()\n",
    "    paramaters = reg.params\n",
    "    pvalues = reg.pvalues \n",
    "    info['params'] = paramaters\n",
    "    info['pvalues'] = pvalues\n",
    "    regression_info[col_name] = info"
   ]
  },
  {
   "cell_type": "code",
   "execution_count": 32,
   "metadata": {},
   "outputs": [
    {
     "data": {
      "text/plain": [
       "{'X1': {'params': Intercept    128.664557\n",
       "  X1            -0.275347\n",
       "  dtype: float64, 'pvalues': Intercept    0.048939\n",
       "  X1           0.549789\n",
       "  dtype: float64}, 'X10': {'params': Intercept    62.916195\n",
       "  X10           0.812047\n",
       "  dtype: float64, 'pvalues': Intercept    0.010348\n",
       "  X10          0.233108\n",
       "  dtype: float64}, 'X11': {'params': Intercept   -2.428261\n",
       "  X11          0.176893\n",
       "  dtype: float64, 'pvalues': Intercept    0.932788\n",
       "  X11          0.001902\n",
       "  dtype: float64}, 'X12': {'params': Intercept    124.177253\n",
       "  X12           -0.173550\n",
       "  dtype: float64, 'pvalues': Intercept    0.000063\n",
       "  X12          0.228577\n",
       "  dtype: float64}, 'X2': {'params': Intercept    93.00000\n",
       "  X2           -7.31875\n",
       "  dtype: float64, 'pvalues': Intercept    3.412758e-17\n",
       "  X2           5.445860e-01\n",
       "  dtype: float64}, 'X3': {'params': Intercept   -27.396654\n",
       "  X3            1.116121\n",
       "  dtype: float64, 'pvalues': Intercept    0.599552\n",
       "  X3           0.026878\n",
       "  dtype: float64}, 'X4': {'params': Intercept    14.446398\n",
       "  X4            0.894848\n",
       "  dtype: float64, 'pvalues': Intercept    2.602057e-01\n",
       "  X4           9.338016e-08\n",
       "  dtype: float64}, 'X5': {'params': Intercept    16.516424\n",
       "  X5            0.922203\n",
       "  dtype: float64, 'pvalues': Intercept    2.119092e-01\n",
       "  X5           3.114182e-07\n",
       "  dtype: float64}, 'X6': {'params': Intercept   -10.929773\n",
       "  X6            0.180755\n",
       "  dtype: float64, 'pvalues': Intercept    0.890336\n",
       "  X6           0.203581\n",
       "  dtype: float64}, 'X7': {'params': Intercept   -185.489484\n",
       "  X7             0.280765\n",
       "  dtype: float64, 'pvalues': Intercept    0.329006\n",
       "  X7           0.148794\n",
       "  dtype: float64}, 'X8': {'params': Intercept    77.954816\n",
       "  X8            0.342838\n",
       "  dtype: float64, 'pvalues': Intercept    1.454839e-13\n",
       "  X8           2.035060e-02\n",
       "  dtype: float64}, 'X9': {'params': Intercept    100.846541\n",
       "  X9            -0.108288\n",
       "  dtype: float64, 'pvalues': Intercept    0.002181\n",
       "  X9           0.736150\n",
       "  dtype: float64}}"
      ]
     },
     "execution_count": 32,
     "metadata": {},
     "output_type": "execute_result"
    }
   ],
   "source": [
    "regression_info"
   ]
  },
  {
   "cell_type": "code",
   "execution_count": 49,
   "metadata": {},
   "outputs": [
    {
     "data": {
      "text/plain": [
       "Index(['X4', 'X5'], dtype='object')"
      ]
     },
     "execution_count": 49,
     "metadata": {},
     "output_type": "execute_result"
    }
   ],
   "source": [
    "data.columns[0:12][corr_coef > 0.6] "
   ]
  },
  {
   "cell_type": "code",
   "execution_count": 50,
   "metadata": {},
   "outputs": [
    {
     "data": {
      "text/html": [
       "<table class=\"simpletable\">\n",
       "<caption>OLS Regression Results</caption>\n",
       "<tr>\n",
       "  <th>Dep. Variable:</th>            <td>Y</td>        <th>  R-squared:         </th> <td>   0.494</td>\n",
       "</tr>\n",
       "<tr>\n",
       "  <th>Model:</th>                   <td>OLS</td>       <th>  Adj. R-squared:    </th> <td>   0.471</td>\n",
       "</tr>\n",
       "<tr>\n",
       "  <th>Method:</th>             <td>Least Squares</td>  <th>  F-statistic:       </th> <td>   21.48</td>\n",
       "</tr>\n",
       "<tr>\n",
       "  <th>Date:</th>             <td>Wed, 01 Nov 2017</td> <th>  Prob (F-statistic):</th> <td>3.09e-07</td>\n",
       "</tr>\n",
       "<tr>\n",
       "  <th>Time:</th>                 <td>08:42:26</td>     <th>  Log-Likelihood:    </th> <td> -221.97</td>\n",
       "</tr>\n",
       "<tr>\n",
       "  <th>No. Observations:</th>      <td>    47</td>      <th>  AIC:               </th> <td>   449.9</td>\n",
       "</tr>\n",
       "<tr>\n",
       "  <th>Df Residuals:</th>          <td>    44</td>      <th>  BIC:               </th> <td>   455.5</td>\n",
       "</tr>\n",
       "<tr>\n",
       "  <th>Df Model:</th>              <td>     2</td>      <th>                     </th>     <td> </td>   \n",
       "</tr>\n",
       "<tr>\n",
       "  <th>Covariance Type:</th>      <td>nonrobust</td>    <th>                     </th>     <td> </td>   \n",
       "</tr>\n",
       "</table>\n",
       "<table class=\"simpletable\">\n",
       "<tr>\n",
       "      <td></td>         <th>coef</th>     <th>std err</th>      <th>t</th>      <th>P>|t|</th>  <th>[0.025</th>    <th>0.975]</th>  \n",
       "</tr>\n",
       "<tr>\n",
       "  <th>Intercept</th> <td>   15.8265</td> <td>   12.593</td> <td>    1.257</td> <td> 0.215</td> <td>   -9.552</td> <td>   41.205</td>\n",
       "</tr>\n",
       "<tr>\n",
       "  <th>X4</th>        <td>    2.5615</td> <td>    1.234</td> <td>    2.076</td> <td> 0.044</td> <td>    0.074</td> <td>    5.049</td>\n",
       "</tr>\n",
       "<tr>\n",
       "  <th>X5</th>        <td>   -1.7829</td> <td>    1.312</td> <td>   -1.359</td> <td> 0.181</td> <td>   -4.427</td> <td>    0.861</td>\n",
       "</tr>\n",
       "</table>\n",
       "<table class=\"simpletable\">\n",
       "<tr>\n",
       "  <th>Omnibus:</th>       <td> 0.338</td> <th>  Durbin-Watson:     </th> <td>   2.077</td>\n",
       "</tr>\n",
       "<tr>\n",
       "  <th>Prob(Omnibus):</th> <td> 0.845</td> <th>  Jarque-Bera (JB):  </th> <td>   0.394</td>\n",
       "</tr>\n",
       "<tr>\n",
       "  <th>Skew:</th>          <td>-0.186</td> <th>  Prob(JB):          </th> <td>   0.821</td>\n",
       "</tr>\n",
       "<tr>\n",
       "  <th>Kurtosis:</th>      <td> 2.751</td> <th>  Cond. No.          </th> <td>    379.</td>\n",
       "</tr>\n",
       "</table>"
      ],
      "text/plain": [
       "<class 'statsmodels.iolib.summary.Summary'>\n",
       "\"\"\"\n",
       "                            OLS Regression Results                            \n",
       "==============================================================================\n",
       "Dep. Variable:                      Y   R-squared:                       0.494\n",
       "Model:                            OLS   Adj. R-squared:                  0.471\n",
       "Method:                 Least Squares   F-statistic:                     21.48\n",
       "Date:                Wed, 01 Nov 2017   Prob (F-statistic):           3.09e-07\n",
       "Time:                        08:42:26   Log-Likelihood:                -221.97\n",
       "No. Observations:                  47   AIC:                             449.9\n",
       "Df Residuals:                      44   BIC:                             455.5\n",
       "Df Model:                           2                                         \n",
       "Covariance Type:            nonrobust                                         \n",
       "==============================================================================\n",
       "                 coef    std err          t      P>|t|      [0.025      0.975]\n",
       "------------------------------------------------------------------------------\n",
       "Intercept     15.8265     12.593      1.257      0.215      -9.552      41.205\n",
       "X4             2.5615      1.234      2.076      0.044       0.074       5.049\n",
       "X5            -1.7829      1.312     -1.359      0.181      -4.427       0.861\n",
       "==============================================================================\n",
       "Omnibus:                        0.338   Durbin-Watson:                   2.077\n",
       "Prob(Omnibus):                  0.845   Jarque-Bera (JB):                0.394\n",
       "Skew:                          -0.186   Prob(JB):                        0.821\n",
       "Kurtosis:                       2.751   Cond. No.                         379.\n",
       "==============================================================================\n",
       "\n",
       "Warnings:\n",
       "[1] Standard Errors assume that the covariance matrix of the errors is correctly specified.\n",
       "\"\"\""
      ]
     },
     "execution_count": 50,
     "metadata": {},
     "output_type": "execute_result"
    }
   ],
   "source": [
    "reg1 = smf.ols('Y ~ X4 + X5', data).fit()\n",
    "reg1.summary()"
   ]
  },
  {
   "cell_type": "code",
   "execution_count": 74,
   "metadata": {},
   "outputs": [],
   "source": [
    "X=np.matrix(data.iloc[:, 0:12])\n",
    "Y=np.array(data.iloc[:,12:13])\n",
    "def AdjR2(flag,n=10):\n",
    "  R_IS=[]\n",
    "  R_OS=[]\n",
    "  for i in range(n):\n",
    "    X_train, X_test, y_train, y_test = train_test_split(X[:,flag], Y, test_size= 0.33)\n",
    "    res=LinearRegression(fit_intercept=False)\n",
    "    res.fit(X_train,y_train)\n",
    "    R_IS.append(1-((np.asarray(res.predict(X_train))-y_train)**2).sum()/((y_train-np.mean(y_train))**2).sum())                                                                     \n",
    "    R_OS.append(1-((np.asarray(res.predict(X_test))-y_test)**2).sum()/((y_test-np.mean(y_test))**2).sum())\n",
    "  R2_IS=np.mean(R_IS)  \n",
    "  R2_OS=np.mean(R_OS)\n",
    "  return R2_IS, R2_OS, res  "
   ]
  },
  {
   "cell_type": "code",
   "execution_count": 76,
   "metadata": {},
   "outputs": [
    {
     "name": "stdout",
     "output_type": "stream",
     "text": [
      "IS R-squared after feature selection is 0.5516037353841247\n",
      "OS R-squared after feature selection is 0.24188876638991305\n"
     ]
    },
    {
     "data": {
      "text/plain": [
       "array([ 0.,  0.,  0.,  1.,  0.,  1.,  0.,  0.,  0.,  0.,  1.,  0.])"
      ]
     },
     "execution_count": 76,
     "metadata": {},
     "output_type": "execute_result"
    }
   ],
   "source": [
    "n=X.shape[1]\n",
    "def FindBestI():\n",
    "    flag = np.zeros(n)    # initially exclude all regressors: 1-include, 0-exclude\n",
    "    r2max = 0             # for storing and compare with best R^2\n",
    "    while True:\n",
    "        flag_mat = np.maximum(np.eye(n),flag) #create the matrix with rows representing the cases of adding each new feature\n",
    "        # see if R2 increases if we add one more feature\n",
    "        r2 = np.apply_along_axis(AdjR2,1,flag_mat==1)[:,0]  # 1: row-wise operation producing the validation R2 for each row (combination of features)\n",
    "        temp = r2.max() #take the best R2\n",
    "        if temp > r2max:\n",
    "            r2max = temp\n",
    "            flag = flag_mat[r2.argmax()]  # select the feature set that improved R2\n",
    "        else:\n",
    "            break                         # if there's nothing to add, break the loop\n",
    "    return flag\n",
    "\n",
    "flag = FindBestI()             # store the best choice of feature selection\n",
    "R2_IS,R2_OS,lm_best = AdjR2(flag==1)  # then run the regression based on such selection\n",
    "print(\"IS R-squared after feature selection is {}\".format(R2_IS))\n",
    "print(\"OS R-squared after feature selection is {}\".format(R2_OS))\n",
    "flag"
   ]
  },
  {
   "cell_type": "markdown",
   "metadata": {},
   "source": [
    "__After running cross validation, we end up selecting different features, we will pick X4, X6, and X11, instead of X5__"
   ]
  },
  {
   "cell_type": "markdown",
   "metadata": {},
   "source": [
    "#  Part II. Learning Seattle's Work Habits from Bicycle Counts\n"
   ]
  },
  {
   "cell_type": "markdown",
   "metadata": {},
   "source": [
    "The data we will use here are the hourly bicycle counts on Seattle's Fremont Bridge. These data come from an automated bicycle counter, installed in late 2012, which has inductive sensors under the sidewalks on either side of the bridge. The daily or hourly bicycle counts can be downloaded from http://data.seattle.gov/; here is the direct link to the hourly dataset. To download the data directly, you can uncomment the following curl command:"
   ]
  },
  {
   "cell_type": "code",
   "execution_count": 77,
   "metadata": {},
   "outputs": [],
   "source": [
    "data = pd.read_csv(\"Bridge.csv\", index_col='Date', parse_dates=True)\n",
    "data=data.iloc[:-12000,:]\n",
    "data.tail()\n",
    "\n",
    "#We'll do some quick data cleaning: \n",
    "#we'll rename the columns to the shorter \"West\" and \"East\", \n",
    "#set any missing values to zero, and add a \"Total\" column:\n",
    "data.columns = ['West', 'East']\n",
    "data.fillna(0, inplace=True)\n",
    "data['Total'] = data.eval('East + West')"
   ]
  },
  {
   "cell_type": "code",
   "execution_count": 78,
   "metadata": {},
   "outputs": [
    {
     "data": {
      "text/html": [
       "<div>\n",
       "<style>\n",
       "    .dataframe thead tr:only-child th {\n",
       "        text-align: right;\n",
       "    }\n",
       "\n",
       "    .dataframe thead th {\n",
       "        text-align: left;\n",
       "    }\n",
       "\n",
       "    .dataframe tbody tr th {\n",
       "        vertical-align: top;\n",
       "    }\n",
       "</style>\n",
       "<table border=\"1\" class=\"dataframe\">\n",
       "  <thead>\n",
       "    <tr style=\"text-align: right;\">\n",
       "      <th></th>\n",
       "      <th>West</th>\n",
       "      <th>East</th>\n",
       "      <th>Total</th>\n",
       "    </tr>\n",
       "    <tr>\n",
       "      <th>Date</th>\n",
       "      <th></th>\n",
       "      <th></th>\n",
       "      <th></th>\n",
       "    </tr>\n",
       "  </thead>\n",
       "  <tbody>\n",
       "    <tr>\n",
       "      <th>2012-10-03 00:00:00</th>\n",
       "      <td>4.0</td>\n",
       "      <td>9.0</td>\n",
       "      <td>13.0</td>\n",
       "    </tr>\n",
       "    <tr>\n",
       "      <th>2012-10-03 01:00:00</th>\n",
       "      <td>4.0</td>\n",
       "      <td>6.0</td>\n",
       "      <td>10.0</td>\n",
       "    </tr>\n",
       "    <tr>\n",
       "      <th>2012-10-03 02:00:00</th>\n",
       "      <td>1.0</td>\n",
       "      <td>1.0</td>\n",
       "      <td>2.0</td>\n",
       "    </tr>\n",
       "    <tr>\n",
       "      <th>2012-10-03 03:00:00</th>\n",
       "      <td>2.0</td>\n",
       "      <td>3.0</td>\n",
       "      <td>5.0</td>\n",
       "    </tr>\n",
       "    <tr>\n",
       "      <th>2012-10-03 04:00:00</th>\n",
       "      <td>6.0</td>\n",
       "      <td>1.0</td>\n",
       "      <td>7.0</td>\n",
       "    </tr>\n",
       "  </tbody>\n",
       "</table>\n",
       "</div>"
      ],
      "text/plain": [
       "                     West  East  Total\n",
       "Date                                  \n",
       "2012-10-03 00:00:00   4.0   9.0   13.0\n",
       "2012-10-03 01:00:00   4.0   6.0   10.0\n",
       "2012-10-03 02:00:00   1.0   1.0    2.0\n",
       "2012-10-03 03:00:00   2.0   3.0    5.0\n",
       "2012-10-03 04:00:00   6.0   1.0    7.0"
      ]
     },
     "execution_count": 78,
     "metadata": {},
     "output_type": "execute_result"
    }
   ],
   "source": [
    "data.head()"
   ]
  },
  {
   "cell_type": "code",
   "execution_count": 79,
   "metadata": {},
   "outputs": [
    {
     "name": "stderr",
     "output_type": "stream",
     "text": [
      "C:\\Users\\caoba\\Anaconda3\\lib\\site-packages\\ipykernel_launcher.py:1: FutureWarning: how in .resample() is deprecated\n",
      "the new syntax is .resample(...).sum()\n",
      "  \"\"\"Entry point for launching an IPython kernel.\n"
     ]
    },
    {
     "data": {
      "image/png": "[encoded data removed]",
      "text/plain": [
       "<matplotlib.figure.Figure at 0x2664efbea90>"
      ]
     },
     "metadata": {},
     "output_type": "display_data"
    }
   ],
   "source": [
    "data.resample('W', how='sum').plot()\n",
    "plt.ylabel('weekly trips');"
   ]
  },
  {
   "cell_type": "code",
   "execution_count": 80,
   "metadata": {},
   "outputs": [
    {
     "data": {
      "text/html": [
       "<div>\n",
       "<style>\n",
       "    .dataframe thead tr:only-child th {\n",
       "        text-align: right;\n",
       "    }\n",
       "\n",
       "    .dataframe thead th {\n",
       "        text-align: left;\n",
       "    }\n",
       "\n",
       "    .dataframe tbody tr th {\n",
       "        vertical-align: top;\n",
       "    }\n",
       "</style>\n",
       "<table border=\"1\" class=\"dataframe\">\n",
       "  <thead>\n",
       "    <tr>\n",
       "      <th></th>\n",
       "      <th colspan=\"10\" halign=\"left\">East</th>\n",
       "      <th>...</th>\n",
       "      <th colspan=\"10\" halign=\"left\">West</th>\n",
       "    </tr>\n",
       "    <tr>\n",
       "      <th>Date</th>\n",
       "      <th>0</th>\n",
       "      <th>1</th>\n",
       "      <th>2</th>\n",
       "      <th>3</th>\n",
       "      <th>4</th>\n",
       "      <th>5</th>\n",
       "      <th>6</th>\n",
       "      <th>7</th>\n",
       "      <th>8</th>\n",
       "      <th>9</th>\n",
       "      <th>...</th>\n",
       "      <th>14</th>\n",
       "      <th>15</th>\n",
       "      <th>16</th>\n",
       "      <th>17</th>\n",
       "      <th>18</th>\n",
       "      <th>19</th>\n",
       "      <th>20</th>\n",
       "      <th>21</th>\n",
       "      <th>22</th>\n",
       "      <th>23</th>\n",
       "    </tr>\n",
       "  </thead>\n",
       "  <tbody>\n",
       "    <tr>\n",
       "      <th>2012-10-03</th>\n",
       "      <td>9</td>\n",
       "      <td>6</td>\n",
       "      <td>1</td>\n",
       "      <td>3.0</td>\n",
       "      <td>1</td>\n",
       "      <td>10</td>\n",
       "      <td>50</td>\n",
       "      <td>95</td>\n",
       "      <td>146</td>\n",
       "      <td>104</td>\n",
       "      <td>...</td>\n",
       "      <td>77</td>\n",
       "      <td>72</td>\n",
       "      <td>133</td>\n",
       "      <td>192</td>\n",
       "      <td>122</td>\n",
       "      <td>59</td>\n",
       "      <td>29</td>\n",
       "      <td>25</td>\n",
       "      <td>24</td>\n",
       "      <td>5</td>\n",
       "    </tr>\n",
       "    <tr>\n",
       "      <th>2012-10-04</th>\n",
       "      <td>11</td>\n",
       "      <td>0</td>\n",
       "      <td>6</td>\n",
       "      <td>3.0</td>\n",
       "      <td>1</td>\n",
       "      <td>11</td>\n",
       "      <td>51</td>\n",
       "      <td>89</td>\n",
       "      <td>134</td>\n",
       "      <td>94</td>\n",
       "      <td>...</td>\n",
       "      <td>63</td>\n",
       "      <td>73</td>\n",
       "      <td>114</td>\n",
       "      <td>154</td>\n",
       "      <td>137</td>\n",
       "      <td>57</td>\n",
       "      <td>27</td>\n",
       "      <td>31</td>\n",
       "      <td>25</td>\n",
       "      <td>11</td>\n",
       "    </tr>\n",
       "    <tr>\n",
       "      <th>2012-10-05</th>\n",
       "      <td>7</td>\n",
       "      <td>4</td>\n",
       "      <td>3</td>\n",
       "      <td>2.0</td>\n",
       "      <td>2</td>\n",
       "      <td>7</td>\n",
       "      <td>37</td>\n",
       "      <td>101</td>\n",
       "      <td>119</td>\n",
       "      <td>81</td>\n",
       "      <td>...</td>\n",
       "      <td>63</td>\n",
       "      <td>80</td>\n",
       "      <td>120</td>\n",
       "      <td>144</td>\n",
       "      <td>107</td>\n",
       "      <td>42</td>\n",
       "      <td>27</td>\n",
       "      <td>11</td>\n",
       "      <td>10</td>\n",
       "      <td>16</td>\n",
       "    </tr>\n",
       "    <tr>\n",
       "      <th>2012-10-06</th>\n",
       "      <td>7</td>\n",
       "      <td>5</td>\n",
       "      <td>2</td>\n",
       "      <td>2.0</td>\n",
       "      <td>1</td>\n",
       "      <td>2</td>\n",
       "      <td>15</td>\n",
       "      <td>16</td>\n",
       "      <td>47</td>\n",
       "      <td>55</td>\n",
       "      <td>...</td>\n",
       "      <td>89</td>\n",
       "      <td>115</td>\n",
       "      <td>107</td>\n",
       "      <td>107</td>\n",
       "      <td>41</td>\n",
       "      <td>40</td>\n",
       "      <td>25</td>\n",
       "      <td>18</td>\n",
       "      <td>14</td>\n",
       "      <td>15</td>\n",
       "    </tr>\n",
       "    <tr>\n",
       "      <th>2012-10-07</th>\n",
       "      <td>5</td>\n",
       "      <td>5</td>\n",
       "      <td>1</td>\n",
       "      <td>2.0</td>\n",
       "      <td>2</td>\n",
       "      <td>3</td>\n",
       "      <td>8</td>\n",
       "      <td>12</td>\n",
       "      <td>26</td>\n",
       "      <td>36</td>\n",
       "      <td>...</td>\n",
       "      <td>126</td>\n",
       "      <td>122</td>\n",
       "      <td>132</td>\n",
       "      <td>118</td>\n",
       "      <td>68</td>\n",
       "      <td>26</td>\n",
       "      <td>19</td>\n",
       "      <td>12</td>\n",
       "      <td>9</td>\n",
       "      <td>5</td>\n",
       "    </tr>\n",
       "  </tbody>\n",
       "</table>\n",
       "<p>5 rows × 48 columns</p>\n",
       "</div>"
      ],
      "text/plain": [
       "           East                                      ... West                 \\\n",
       "Date         0  1  2    3  4   5   6    7    8    9  ...   14   15   16   17   \n",
       "2012-10-03    9  6  1  3.0  1  10  50   95  146  104 ...   77   72  133  192   \n",
       "2012-10-04   11  0  6  3.0  1  11  51   89  134   94 ...   63   73  114  154   \n",
       "2012-10-05    7  4  3  2.0  2   7  37  101  119   81 ...   63   80  120  144   \n",
       "2012-10-06    7  5  2  2.0  1   2  15   16   47   55 ...   89  115  107  107   \n",
       "2012-10-07    5  5  1  2.0  2   3   8   12   26   36 ...  126  122  132  118   \n",
       "\n",
       "                                     \n",
       "Date         18  19  20  21  22  23  \n",
       "2012-10-03  122  59  29  25  24   5  \n",
       "2012-10-04  137  57  27  31  25  11  \n",
       "2012-10-05  107  42  27  11  10  16  \n",
       "2012-10-06   41  40  25  18  14  15  \n",
       "2012-10-07   68  26  19  12   9   5  \n",
       "\n",
       "[5 rows x 48 columns]"
      ]
     },
     "execution_count": 80,
     "metadata": {},
     "output_type": "execute_result"
    }
   ],
   "source": [
    "pivoted = data.pivot_table(['East', 'West'],\n",
    "                           index=data.index.date,\n",
    "                           columns=data.index.hour,\n",
    "                           fill_value=0)\n",
    "pivoted.head()"
   ]
  },
  {
   "cell_type": "code",
   "execution_count": 81,
   "metadata": {},
   "outputs": [
    {
     "data": {
      "text/plain": [
       "(990, 48)"
      ]
     },
     "execution_count": 81,
     "metadata": {},
     "output_type": "execute_result"
    }
   ],
   "source": [
    "X = pivoted.values\n",
    "X.shape"
   ]
  },
  {
   "cell_type": "code",
   "execution_count": 82,
   "metadata": {},
   "outputs": [
    {
     "data": {
      "text/plain": [
       "array([[  9.,   6.,   1., ...,  25.,  24.,   5.],\n",
       "       [ 11.,   0.,   6., ...,  31.,  25.,  11.],\n",
       "       [  7.,   4.,   3., ...,  11.,  10.,  16.],\n",
       "       ..., \n",
       "       [  6.,   5.,   2., ...,  44.,  35.,  21.],\n",
       "       [ 12.,   2.,   4., ...,  40.,  17.,   9.],\n",
       "       [ 18.,   2.,   1., ...,  38.,  32.,  28.]])"
      ]
     },
     "execution_count": 82,
     "metadata": {},
     "output_type": "execute_result"
    }
   ],
   "source": [
    "X"
   ]
  },
  {
   "cell_type": "code",
   "execution_count": 83,
   "metadata": {},
   "outputs": [],
   "source": [
    "Xn=X\n",
    "for i in range(0,990):\n",
    "  Xn[i]=X[i]/sum(X[i])"
   ]
  },
  {
   "cell_type": "markdown",
   "metadata": {},
   "source": [
    "## Q5. \n",
    "\n",
    "Visualize the data using PCA (two dimensions). Color the points by the day of the week"
   ]
  },
  {
   "cell_type": "code",
   "execution_count": 86,
   "metadata": {},
   "outputs": [
    {
     "name": "stdout",
     "output_type": "stream",
     "text": [
      "[  7.38636998e-01   7.30100942e-02   3.77165144e-02   2.42311818e-02\n",
      "   1.37470818e-02   1.20239117e-02   1.04680683e-02   8.16115044e-03\n",
      "   6.82555867e-03   5.67680535e-03   5.33118526e-03   4.77522946e-03\n",
      "   4.47441373e-03   4.38892499e-03   4.20498204e-03   3.66368746e-03\n",
      "   3.61544079e-03   3.45670894e-03   3.43978826e-03   3.15493433e-03\n",
      "   3.04606426e-03   2.86766920e-03   2.45496753e-03   2.36441599e-03\n",
      "   1.95867186e-03   1.89976289e-03   1.63012498e-03   1.51127891e-03\n",
      "   1.39009992e-03   1.23931920e-03   1.05029733e-03   9.32511972e-04\n",
      "   8.74301824e-04   7.83969775e-04   6.70099000e-04   6.27598682e-04\n",
      "   6.07965473e-04   5.53989702e-04   4.71813109e-04   4.29097731e-04\n",
      "   3.94068762e-04   3.72275234e-04   2.59916359e-04   1.95765005e-04\n",
      "   1.63037554e-04   1.53323411e-04   9.49339864e-05   2.10058983e-33]\n"
     ]
    },
    {
     "data": {
      "image/png": "[encoded data removed]",
      "text/plain": [
       "<matplotlib.figure.Figure at 0x2664f0d45c0>"
      ]
     },
     "metadata": {},
     "output_type": "display_data"
    }
   ],
   "source": [
    "n=48\n",
    "pca = PCA(n)\n",
    "Xproj = pca.fit_transform(Xn)\n",
    "eigenvalues = pca.explained_variance_\n",
    "print(pca.explained_variance_ratio_)\n",
    "plt.bar(np.arange(n), eigenvalues);\n",
    "plt.xlabel(\"Dimensionality\")\n",
    "plt.ylabel(\"Variance\")\n",
    "plt.show();"
   ]
  },
  {
   "cell_type": "code",
   "execution_count": 87,
   "metadata": {},
   "outputs": [
    {
     "data": {
      "image/png": "[encoded data removed]",
      "text/plain": [
       "<matplotlib.figure.Figure at 0x2664e93f748>"
      ]
     },
     "metadata": {},
     "output_type": "display_data"
    }
   ],
   "source": [
    "plt.figure(2, figsize=(8, 6))\n",
    "plt.clf()\n",
    "# Plot the training points\n",
    "plt.scatter(Xproj[:, 0], Xproj[:, 1], cmap=plt.cm.cool)\n",
    "plt.xlabel('First eigenvector')\n",
    "plt.ylabel('Second eigenvector')\n",
    "plt.show()"
   ]
  },
  {
   "cell_type": "code",
   "execution_count": null,
   "metadata": {
    "collapsed": true
   },
   "outputs": [],
   "source": []
  }
 ],
 "metadata": {
  "kernelspec": {
   "display_name": "Python 3",
   "language": "python",
   "name": "python3"
  },
  "language_info": {
   "codemirror_mode": {
    "name": "ipython",
    "version": 3
   },
   "file_extension": ".py",
   "mimetype": "text/x-python",
   "name": "python",
   "nbconvert_exporter": "python",
   "pygments_lexer": "ipython3",
   "version": "3.6.1"
  }
 },
 "nbformat": 4,
 "nbformat_minor": 1
}
