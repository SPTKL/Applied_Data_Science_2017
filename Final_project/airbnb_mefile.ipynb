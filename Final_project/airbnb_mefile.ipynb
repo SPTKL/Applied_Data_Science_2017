{
 "cells": [
  {
   "cell_type": "code",
   "execution_count": 1,
   "metadata": {
    "collapsed": true
   },
   "outputs": [],
   "source": [
    "import numpy as np\n",
    "import pandas as pd\n",
    "import geopandas as gp\n",
    "import matplotlib.pyplot as plt \n",
    "from fiona.crs import from_epsg\n",
    "import shapely\n",
    "%matplotlib inline"
   ]
  },
  {
   "cell_type": "code",
   "execution_count": 2,
   "metadata": {
    "collapsed": true
   },
   "outputs": [],
   "source": [
    "from geopandas.tools import sjoin"
   ]
  },
  {
   "cell_type": "code",
   "execution_count": 3,
   "metadata": {
    "collapsed": true
   },
   "outputs": [],
   "source": [
    "abb = pd.read_csv('unique_listings1516.csv')"
   ]
  },
  {
   "cell_type": "code",
   "execution_count": 4,
   "metadata": {},
   "outputs": [
    {
     "data": {
      "text/html": [
       "<div>\n",
       "<style>\n",
       "    .dataframe thead tr:only-child th {\n",
       "        text-align: right;\n",
       "    }\n",
       "\n",
       "    .dataframe thead th {\n",
       "        text-align: left;\n",
       "    }\n",
       "\n",
       "    .dataframe tbody tr th {\n",
       "        vertical-align: top;\n",
       "    }\n",
       "</style>\n",
       "<table border=\"1\" class=\"dataframe\">\n",
       "  <thead>\n",
       "    <tr style=\"text-align: right;\">\n",
       "      <th></th>\n",
       "      <th>Unnamed: 0</th>\n",
       "      <th>id</th>\n",
       "      <th>latitude</th>\n",
       "      <th>longitude</th>\n",
       "      <th>year</th>\n",
       "      <th>geometry</th>\n",
       "    </tr>\n",
       "  </thead>\n",
       "  <tbody>\n",
       "    <tr>\n",
       "      <th>0</th>\n",
       "      <td>0</td>\n",
       "      <td>1069266</td>\n",
       "      <td>40.756852</td>\n",
       "      <td>-73.964754</td>\n",
       "      <td>2015</td>\n",
       "      <td>POINT (-73.96475423499014 40.75685194386187)</td>\n",
       "    </tr>\n",
       "    <tr>\n",
       "      <th>1</th>\n",
       "      <td>1</td>\n",
       "      <td>1846722</td>\n",
       "      <td>40.830599</td>\n",
       "      <td>-73.941014</td>\n",
       "      <td>2015</td>\n",
       "      <td>POINT (-73.94101427789765 40.83059906748076)</td>\n",
       "    </tr>\n",
       "    <tr>\n",
       "      <th>2</th>\n",
       "      <td>2</td>\n",
       "      <td>2061725</td>\n",
       "      <td>40.692189</td>\n",
       "      <td>-73.924120</td>\n",
       "      <td>2015</td>\n",
       "      <td>POINT (-73.92412000114966 40.69218932278581)</td>\n",
       "    </tr>\n",
       "    <tr>\n",
       "      <th>3</th>\n",
       "      <td>3</td>\n",
       "      <td>44974</td>\n",
       "      <td>40.734751</td>\n",
       "      <td>-74.002592</td>\n",
       "      <td>2015</td>\n",
       "      <td>POINT (-74.00259246421851 40.73475108783765)</td>\n",
       "    </tr>\n",
       "    <tr>\n",
       "      <th>4</th>\n",
       "      <td>4</td>\n",
       "      <td>4701675</td>\n",
       "      <td>40.745282</td>\n",
       "      <td>-73.997836</td>\n",
       "      <td>2015</td>\n",
       "      <td>POINT (-73.99783627201059 40.74528161142444)</td>\n",
       "    </tr>\n",
       "  </tbody>\n",
       "</table>\n",
       "</div>"
      ],
      "text/plain": [
       "   Unnamed: 0       id   latitude  longitude  year  \\\n",
       "0           0  1069266  40.756852 -73.964754  2015   \n",
       "1           1  1846722  40.830599 -73.941014  2015   \n",
       "2           2  2061725  40.692189 -73.924120  2015   \n",
       "3           3    44974  40.734751 -74.002592  2015   \n",
       "4           4  4701675  40.745282 -73.997836  2015   \n",
       "\n",
       "                                       geometry  \n",
       "0  POINT (-73.96475423499014 40.75685194386187)  \n",
       "1  POINT (-73.94101427789765 40.83059906748076)  \n",
       "2  POINT (-73.92412000114966 40.69218932278581)  \n",
       "3  POINT (-74.00259246421851 40.73475108783765)  \n",
       "4  POINT (-73.99783627201059 40.74528161142444)  "
      ]
     },
     "execution_count": 4,
     "metadata": {},
     "output_type": "execute_result"
    }
   ],
   "source": [
    "abb.head()"
   ]
  },
  {
   "cell_type": "code",
   "execution_count": 5,
   "metadata": {},
   "outputs": [
    {
     "data": {
      "text/html": [
       "<div>\n",
       "<style>\n",
       "    .dataframe thead tr:only-child th {\n",
       "        text-align: right;\n",
       "    }\n",
       "\n",
       "    .dataframe thead th {\n",
       "        text-align: left;\n",
       "    }\n",
       "\n",
       "    .dataframe tbody tr th {\n",
       "        vertical-align: top;\n",
       "    }\n",
       "</style>\n",
       "<table border=\"1\" class=\"dataframe\">\n",
       "  <thead>\n",
       "    <tr style=\"text-align: right;\">\n",
       "      <th></th>\n",
       "      <th>Unnamed: 0</th>\n",
       "      <th>id</th>\n",
       "      <th>latitude</th>\n",
       "      <th>longitude</th>\n",
       "      <th>year</th>\n",
       "      <th>geometry</th>\n",
       "      <th>lonlat</th>\n",
       "    </tr>\n",
       "  </thead>\n",
       "  <tbody>\n",
       "    <tr>\n",
       "      <th>0</th>\n",
       "      <td>0</td>\n",
       "      <td>1069266</td>\n",
       "      <td>40.756852</td>\n",
       "      <td>-73.964754</td>\n",
       "      <td>2015</td>\n",
       "      <td>POINT (-73.96475423499014 40.75685194386187)</td>\n",
       "      <td>(-73.964754235, 40.7568519439)</td>\n",
       "    </tr>\n",
       "    <tr>\n",
       "      <th>1</th>\n",
       "      <td>1</td>\n",
       "      <td>1846722</td>\n",
       "      <td>40.830599</td>\n",
       "      <td>-73.941014</td>\n",
       "      <td>2015</td>\n",
       "      <td>POINT (-73.94101427789765 40.83059906748076)</td>\n",
       "      <td>(-73.9410142779, 40.8305990675)</td>\n",
       "    </tr>\n",
       "    <tr>\n",
       "      <th>2</th>\n",
       "      <td>2</td>\n",
       "      <td>2061725</td>\n",
       "      <td>40.692189</td>\n",
       "      <td>-73.924120</td>\n",
       "      <td>2015</td>\n",
       "      <td>POINT (-73.92412000114966 40.69218932278581)</td>\n",
       "      <td>(-73.9241200011, 40.6921893228)</td>\n",
       "    </tr>\n",
       "    <tr>\n",
       "      <th>3</th>\n",
       "      <td>3</td>\n",
       "      <td>44974</td>\n",
       "      <td>40.734751</td>\n",
       "      <td>-74.002592</td>\n",
       "      <td>2015</td>\n",
       "      <td>POINT (-74.00259246421851 40.73475108783765)</td>\n",
       "      <td>(-74.0025924642, 40.7347510878)</td>\n",
       "    </tr>\n",
       "    <tr>\n",
       "      <th>4</th>\n",
       "      <td>4</td>\n",
       "      <td>4701675</td>\n",
       "      <td>40.745282</td>\n",
       "      <td>-73.997836</td>\n",
       "      <td>2015</td>\n",
       "      <td>POINT (-73.99783627201059 40.74528161142444)</td>\n",
       "      <td>(-73.997836272, 40.7452816114)</td>\n",
       "    </tr>\n",
       "  </tbody>\n",
       "</table>\n",
       "</div>"
      ],
      "text/plain": [
       "   Unnamed: 0       id   latitude  longitude  year  \\\n",
       "0           0  1069266  40.756852 -73.964754  2015   \n",
       "1           1  1846722  40.830599 -73.941014  2015   \n",
       "2           2  2061725  40.692189 -73.924120  2015   \n",
       "3           3    44974  40.734751 -74.002592  2015   \n",
       "4           4  4701675  40.745282 -73.997836  2015   \n",
       "\n",
       "                                       geometry  \\\n",
       "0  POINT (-73.96475423499014 40.75685194386187)   \n",
       "1  POINT (-73.94101427789765 40.83059906748076)   \n",
       "2  POINT (-73.92412000114966 40.69218932278581)   \n",
       "3  POINT (-74.00259246421851 40.73475108783765)   \n",
       "4  POINT (-73.99783627201059 40.74528161142444)   \n",
       "\n",
       "                            lonlat  \n",
       "0   (-73.964754235, 40.7568519439)  \n",
       "1  (-73.9410142779, 40.8305990675)  \n",
       "2  (-73.9241200011, 40.6921893228)  \n",
       "3  (-74.0025924642, 40.7347510878)  \n",
       "4   (-73.997836272, 40.7452816114)  "
      ]
     },
     "execution_count": 5,
     "metadata": {},
     "output_type": "execute_result"
    }
   ],
   "source": [
    " import shapely\n",
    "# combine lat and lon to one column\n",
    "abb['lonlat']=list(zip(abb.longitude,abb.latitude))\n",
    "# Create Point Geometry for based on lonlat column\n",
    "abb['geometry']=abb[['lonlat']].applymap(lambda x:shapely.geometry.Point(x))\n",
    "abb.head()"
   ]
  },
  {
   "cell_type": "code",
   "execution_count": 6,
   "metadata": {
    "collapsed": true
   },
   "outputs": [],
   "source": [
    "abb = gp.GeoDataFrame(abb, geometry='geometry')"
   ]
  },
  {
   "cell_type": "code",
   "execution_count": 7,
   "metadata": {},
   "outputs": [
    {
     "data": {
      "text/html": [
       "<div>\n",
       "<style>\n",
       "    .dataframe thead tr:only-child th {\n",
       "        text-align: right;\n",
       "    }\n",
       "\n",
       "    .dataframe thead th {\n",
       "        text-align: left;\n",
       "    }\n",
       "\n",
       "    .dataframe tbody tr th {\n",
       "        vertical-align: top;\n",
       "    }\n",
       "</style>\n",
       "<table border=\"1\" class=\"dataframe\">\n",
       "  <thead>\n",
       "    <tr style=\"text-align: right;\">\n",
       "      <th></th>\n",
       "      <th>Unnamed: 0</th>\n",
       "      <th>id</th>\n",
       "      <th>latitude</th>\n",
       "      <th>longitude</th>\n",
       "      <th>year</th>\n",
       "      <th>geometry</th>\n",
       "      <th>lonlat</th>\n",
       "    </tr>\n",
       "  </thead>\n",
       "  <tbody>\n",
       "    <tr>\n",
       "      <th>0</th>\n",
       "      <td>0</td>\n",
       "      <td>1069266</td>\n",
       "      <td>40.756852</td>\n",
       "      <td>-73.964754</td>\n",
       "      <td>2015</td>\n",
       "      <td>POINT (-73.96475423499014 40.75685194386187)</td>\n",
       "      <td>(-73.964754235, 40.7568519439)</td>\n",
       "    </tr>\n",
       "    <tr>\n",
       "      <th>1</th>\n",
       "      <td>1</td>\n",
       "      <td>1846722</td>\n",
       "      <td>40.830599</td>\n",
       "      <td>-73.941014</td>\n",
       "      <td>2015</td>\n",
       "      <td>POINT (-73.94101427789765 40.83059906748076)</td>\n",
       "      <td>(-73.9410142779, 40.8305990675)</td>\n",
       "    </tr>\n",
       "    <tr>\n",
       "      <th>2</th>\n",
       "      <td>2</td>\n",
       "      <td>2061725</td>\n",
       "      <td>40.692189</td>\n",
       "      <td>-73.924120</td>\n",
       "      <td>2015</td>\n",
       "      <td>POINT (-73.92412000114966 40.69218932278581)</td>\n",
       "      <td>(-73.9241200011, 40.6921893228)</td>\n",
       "    </tr>\n",
       "    <tr>\n",
       "      <th>3</th>\n",
       "      <td>3</td>\n",
       "      <td>44974</td>\n",
       "      <td>40.734751</td>\n",
       "      <td>-74.002592</td>\n",
       "      <td>2015</td>\n",
       "      <td>POINT (-74.00259246421851 40.73475108783765)</td>\n",
       "      <td>(-74.0025924642, 40.7347510878)</td>\n",
       "    </tr>\n",
       "    <tr>\n",
       "      <th>4</th>\n",
       "      <td>4</td>\n",
       "      <td>4701675</td>\n",
       "      <td>40.745282</td>\n",
       "      <td>-73.997836</td>\n",
       "      <td>2015</td>\n",
       "      <td>POINT (-73.99783627201059 40.74528161142444)</td>\n",
       "      <td>(-73.997836272, 40.7452816114)</td>\n",
       "    </tr>\n",
       "  </tbody>\n",
       "</table>\n",
       "</div>"
      ],
      "text/plain": [
       "   Unnamed: 0       id   latitude  longitude  year  \\\n",
       "0           0  1069266  40.756852 -73.964754  2015   \n",
       "1           1  1846722  40.830599 -73.941014  2015   \n",
       "2           2  2061725  40.692189 -73.924120  2015   \n",
       "3           3    44974  40.734751 -74.002592  2015   \n",
       "4           4  4701675  40.745282 -73.997836  2015   \n",
       "\n",
       "                                       geometry  \\\n",
       "0  POINT (-73.96475423499014 40.75685194386187)   \n",
       "1  POINT (-73.94101427789765 40.83059906748076)   \n",
       "2  POINT (-73.92412000114966 40.69218932278581)   \n",
       "3  POINT (-74.00259246421851 40.73475108783765)   \n",
       "4  POINT (-73.99783627201059 40.74528161142444)   \n",
       "\n",
       "                            lonlat  \n",
       "0   (-73.964754235, 40.7568519439)  \n",
       "1  (-73.9410142779, 40.8305990675)  \n",
       "2  (-73.9241200011, 40.6921893228)  \n",
       "3  (-74.0025924642, 40.7347510878)  \n",
       "4   (-73.997836272, 40.7452816114)  "
      ]
     },
     "execution_count": 7,
     "metadata": {},
     "output_type": "execute_result"
    }
   ],
   "source": [
    "abb.head()"
   ]
  },
  {
   "cell_type": "code",
   "execution_count": 36,
   "metadata": {},
   "outputs": [],
   "source": [
    "bbl = gp.GeoDataFrame.from_file('C:/Users/caoba/Downloads/Polygon Buffer/Polygon Buffer/buffer1000meters.shp')"
   ]
  },
  {
   "cell_type": "code",
   "execution_count": 37,
   "metadata": {},
   "outputs": [
    {
     "data": {
      "text/html": [
       "<div>\n",
       "<style>\n",
       "    .dataframe thead tr:only-child th {\n",
       "        text-align: right;\n",
       "    }\n",
       "\n",
       "    .dataframe thead th {\n",
       "        text-align: left;\n",
       "    }\n",
       "\n",
       "    .dataframe tbody tr th {\n",
       "        vertical-align: top;\n",
       "    }\n",
       "</style>\n",
       "<table border=\"1\" class=\"dataframe\">\n",
       "  <thead>\n",
       "    <tr style=\"text-align: right;\">\n",
       "      <th></th>\n",
       "      <th>Borough</th>\n",
       "      <th>ZipCode</th>\n",
       "      <th>BBL</th>\n",
       "      <th>geometry</th>\n",
       "    </tr>\n",
       "  </thead>\n",
       "  <tbody>\n",
       "    <tr>\n",
       "      <th>0</th>\n",
       "      <td>BK</td>\n",
       "      <td>11224</td>\n",
       "      <td>3.070360e+09</td>\n",
       "      <td>POLYGON ((981729.6322855615 149526.84859999, 9...</td>\n",
       "    </tr>\n",
       "    <tr>\n",
       "      <th>1</th>\n",
       "      <td>BK</td>\n",
       "      <td>11224</td>\n",
       "      <td>3.070370e+09</td>\n",
       "      <td>POLYGON ((981774.4887737731 149276.5486705538,...</td>\n",
       "    </tr>\n",
       "    <tr>\n",
       "      <th>2</th>\n",
       "      <td>BK</td>\n",
       "      <td>11224</td>\n",
       "      <td>3.086960e+09</td>\n",
       "      <td>POLYGON ((991121.7646485794 148530.7255509223,...</td>\n",
       "    </tr>\n",
       "    <tr>\n",
       "      <th>3</th>\n",
       "      <td>BK</td>\n",
       "      <td>11224</td>\n",
       "      <td>3.070290e+09</td>\n",
       "      <td>POLYGON ((983905.4670232051 148690.8695704278,...</td>\n",
       "    </tr>\n",
       "    <tr>\n",
       "      <th>4</th>\n",
       "      <td>BK</td>\n",
       "      <td>11224</td>\n",
       "      <td>3.070490e+09</td>\n",
       "      <td>POLYGON ((985915.2724194435 148767.2932753136,...</td>\n",
       "    </tr>\n",
       "  </tbody>\n",
       "</table>\n",
       "</div>"
      ],
      "text/plain": [
       "  Borough  ZipCode           BBL  \\\n",
       "0      BK    11224  3.070360e+09   \n",
       "1      BK    11224  3.070370e+09   \n",
       "2      BK    11224  3.086960e+09   \n",
       "3      BK    11224  3.070290e+09   \n",
       "4      BK    11224  3.070490e+09   \n",
       "\n",
       "                                            geometry  \n",
       "0  POLYGON ((981729.6322855615 149526.84859999, 9...  \n",
       "1  POLYGON ((981774.4887737731 149276.5486705538,...  \n",
       "2  POLYGON ((991121.7646485794 148530.7255509223,...  \n",
       "3  POLYGON ((983905.4670232051 148690.8695704278,...  \n",
       "4  POLYGON ((985915.2724194435 148767.2932753136,...  "
      ]
     },
     "execution_count": 37,
     "metadata": {},
     "output_type": "execute_result"
    }
   ],
   "source": [
    "bbl.head()"
   ]
  },
  {
   "cell_type": "code",
   "execution_count": 38,
   "metadata": {},
   "outputs": [
    {
     "data": {
      "text/plain": [
       "{'ellps': 'GRS80',\n",
       " 'lat_0': 40.16666666666666,\n",
       " 'lat_1': 40.66666666666666,\n",
       " 'lat_2': 41.03333333333333,\n",
       " 'lon_0': -74,\n",
       " 'no_defs': True,\n",
       " 'proj': 'lcc',\n",
       " 'units': 'us-ft',\n",
       " 'x_0': 300000.0000000001,\n",
       " 'y_0': 0}"
      ]
     },
     "execution_count": 38,
     "metadata": {},
     "output_type": "execute_result"
    }
   ],
   "source": [
    "bbl.crs"
   ]
  },
  {
   "cell_type": "code",
   "execution_count": 39,
   "metadata": {},
   "outputs": [
    {
     "data": {
      "text/plain": [
       "{'ellps': 'GRS80',\n",
       " 'lat_0': 40.16666666666666,\n",
       " 'lat_1': 40.66666666666666,\n",
       " 'lat_2': 41.03333333333333,\n",
       " 'lon_0': -74,\n",
       " 'no_defs': True,\n",
       " 'proj': 'lcc',\n",
       " 'units': 'us-ft',\n",
       " 'x_0': 300000.0000000001,\n",
       " 'y_0': 0}"
      ]
     },
     "execution_count": 39,
     "metadata": {},
     "output_type": "execute_result"
    }
   ],
   "source": [
    "abb.crs = from_epsg(4326)\n",
    "bbl.crs"
   ]
  },
  {
   "cell_type": "code",
   "execution_count": 40,
   "metadata": {},
   "outputs": [
    {
     "data": {
      "text/plain": [
       "{'init': 'epsg:4326', 'no_defs': True}"
      ]
     },
     "execution_count": 40,
     "metadata": {},
     "output_type": "execute_result"
    }
   ],
   "source": [
    "abb.crs"
   ]
  },
  {
   "cell_type": "code",
   "execution_count": 43,
   "metadata": {},
   "outputs": [
    {
     "ename": "RuntimeError",
     "evalue": "b'latitude or longitude exceeded limits'",
     "output_type": "error",
     "traceback": [
      "\u001b[1;31m---------------------------------------------------------------------------\u001b[0m",
      "\u001b[1;31mRuntimeError\u001b[0m                              Traceback (most recent call last)",
      "\u001b[1;32m<ipython-input-43-9fb6c9c6daf3>\u001b[0m in \u001b[0;36m<module>\u001b[1;34m()\u001b[0m\n\u001b[1;32m----> 1\u001b[1;33m \u001b[0mabb\u001b[0m \u001b[1;33m=\u001b[0m \u001b[0mabb\u001b[0m\u001b[1;33m.\u001b[0m\u001b[0mto_crs\u001b[0m\u001b[1;33m(\u001b[0m\u001b[0mepsg\u001b[0m\u001b[1;33m=\u001b[0m\u001b[1;36m2263\u001b[0m\u001b[1;33m)\u001b[0m\u001b[1;33m\u001b[0m\u001b[0m\n\u001b[0m\u001b[0;32m      2\u001b[0m \u001b[0mbbl\u001b[0m \u001b[1;33m=\u001b[0m \u001b[0mbbl\u001b[0m\u001b[1;33m.\u001b[0m\u001b[0mto_crs\u001b[0m\u001b[1;33m(\u001b[0m\u001b[0mepsg\u001b[0m\u001b[1;33m=\u001b[0m\u001b[1;36m2263\u001b[0m\u001b[1;33m)\u001b[0m\u001b[1;33m\u001b[0m\u001b[0m\n",
      "\u001b[1;32mC:\\Users\\caoba\\Anaconda3\\lib\\site-packages\\geopandas\\geodataframe.py\u001b[0m in \u001b[0;36mto_crs\u001b[1;34m(self, crs, epsg, inplace)\u001b[0m\n\u001b[0;32m    384\u001b[0m         \u001b[1;32melse\u001b[0m\u001b[1;33m:\u001b[0m\u001b[1;33m\u001b[0m\u001b[0m\n\u001b[0;32m    385\u001b[0m             \u001b[0mdf\u001b[0m \u001b[1;33m=\u001b[0m \u001b[0mself\u001b[0m\u001b[1;33m.\u001b[0m\u001b[0mcopy\u001b[0m\u001b[1;33m(\u001b[0m\u001b[1;33m)\u001b[0m\u001b[1;33m\u001b[0m\u001b[0m\n\u001b[1;32m--> 386\u001b[1;33m         \u001b[0mgeom\u001b[0m \u001b[1;33m=\u001b[0m \u001b[0mdf\u001b[0m\u001b[1;33m.\u001b[0m\u001b[0mgeometry\u001b[0m\u001b[1;33m.\u001b[0m\u001b[0mto_crs\u001b[0m\u001b[1;33m(\u001b[0m\u001b[0mcrs\u001b[0m\u001b[1;33m=\u001b[0m\u001b[0mcrs\u001b[0m\u001b[1;33m,\u001b[0m \u001b[0mepsg\u001b[0m\u001b[1;33m=\u001b[0m\u001b[0mepsg\u001b[0m\u001b[1;33m)\u001b[0m\u001b[1;33m\u001b[0m\u001b[0m\n\u001b[0m\u001b[0;32m    387\u001b[0m         \u001b[0mdf\u001b[0m\u001b[1;33m.\u001b[0m\u001b[0mgeometry\u001b[0m \u001b[1;33m=\u001b[0m \u001b[0mgeom\u001b[0m\u001b[1;33m\u001b[0m\u001b[0m\n\u001b[0;32m    388\u001b[0m         \u001b[0mdf\u001b[0m\u001b[1;33m.\u001b[0m\u001b[0mcrs\u001b[0m \u001b[1;33m=\u001b[0m \u001b[0mgeom\u001b[0m\u001b[1;33m.\u001b[0m\u001b[0mcrs\u001b[0m\u001b[1;33m\u001b[0m\u001b[0m\n",
      "\u001b[1;32mC:\\Users\\caoba\\Anaconda3\\lib\\site-packages\\geopandas\\geoseries.py\u001b[0m in \u001b[0;36mto_crs\u001b[1;34m(self, crs, epsg)\u001b[0m\n\u001b[0;32m    286\u001b[0m         \u001b[0mproj_out\u001b[0m \u001b[1;33m=\u001b[0m \u001b[0mpyproj\u001b[0m\u001b[1;33m.\u001b[0m\u001b[0mProj\u001b[0m\u001b[1;33m(\u001b[0m\u001b[0mcrs\u001b[0m\u001b[1;33m,\u001b[0m \u001b[0mpreserve_units\u001b[0m\u001b[1;33m=\u001b[0m\u001b[1;32mTrue\u001b[0m\u001b[1;33m)\u001b[0m\u001b[1;33m\u001b[0m\u001b[0m\n\u001b[0;32m    287\u001b[0m         \u001b[0mproject\u001b[0m \u001b[1;33m=\u001b[0m \u001b[0mpartial\u001b[0m\u001b[1;33m(\u001b[0m\u001b[0mpyproj\u001b[0m\u001b[1;33m.\u001b[0m\u001b[0mtransform\u001b[0m\u001b[1;33m,\u001b[0m \u001b[0mproj_in\u001b[0m\u001b[1;33m,\u001b[0m \u001b[0mproj_out\u001b[0m\u001b[1;33m)\u001b[0m\u001b[1;33m\u001b[0m\u001b[0m\n\u001b[1;32m--> 288\u001b[1;33m         \u001b[0mresult\u001b[0m \u001b[1;33m=\u001b[0m \u001b[0mself\u001b[0m\u001b[1;33m.\u001b[0m\u001b[0mapply\u001b[0m\u001b[1;33m(\u001b[0m\u001b[1;32mlambda\u001b[0m \u001b[0mgeom\u001b[0m\u001b[1;33m:\u001b[0m \u001b[0mtransform\u001b[0m\u001b[1;33m(\u001b[0m\u001b[0mproject\u001b[0m\u001b[1;33m,\u001b[0m \u001b[0mgeom\u001b[0m\u001b[1;33m)\u001b[0m\u001b[1;33m)\u001b[0m\u001b[1;33m\u001b[0m\u001b[0m\n\u001b[0m\u001b[0;32m    289\u001b[0m         \u001b[0mresult\u001b[0m\u001b[1;33m.\u001b[0m\u001b[0m__class__\u001b[0m \u001b[1;33m=\u001b[0m \u001b[0mGeoSeries\u001b[0m\u001b[1;33m\u001b[0m\u001b[0m\n\u001b[0;32m    290\u001b[0m         \u001b[0mresult\u001b[0m\u001b[1;33m.\u001b[0m\u001b[0mcrs\u001b[0m \u001b[1;33m=\u001b[0m \u001b[0mcrs\u001b[0m\u001b[1;33m\u001b[0m\u001b[0m\n",
      "\u001b[1;32mC:\\Users\\caoba\\Anaconda3\\lib\\site-packages\\pandas\\core\\series.py\u001b[0m in \u001b[0;36mapply\u001b[1;34m(self, func, convert_dtype, args, **kwds)\u001b[0m\n\u001b[0;32m   2353\u001b[0m             \u001b[1;32melse\u001b[0m\u001b[1;33m:\u001b[0m\u001b[1;33m\u001b[0m\u001b[0m\n\u001b[0;32m   2354\u001b[0m                 \u001b[0mvalues\u001b[0m \u001b[1;33m=\u001b[0m \u001b[0mself\u001b[0m\u001b[1;33m.\u001b[0m\u001b[0masobject\u001b[0m\u001b[1;33m\u001b[0m\u001b[0m\n\u001b[1;32m-> 2355\u001b[1;33m                 \u001b[0mmapped\u001b[0m \u001b[1;33m=\u001b[0m \u001b[0mlib\u001b[0m\u001b[1;33m.\u001b[0m\u001b[0mmap_infer\u001b[0m\u001b[1;33m(\u001b[0m\u001b[0mvalues\u001b[0m\u001b[1;33m,\u001b[0m \u001b[0mf\u001b[0m\u001b[1;33m,\u001b[0m \u001b[0mconvert\u001b[0m\u001b[1;33m=\u001b[0m\u001b[0mconvert_dtype\u001b[0m\u001b[1;33m)\u001b[0m\u001b[1;33m\u001b[0m\u001b[0m\n\u001b[0m\u001b[0;32m   2356\u001b[0m \u001b[1;33m\u001b[0m\u001b[0m\n\u001b[0;32m   2357\u001b[0m         \u001b[1;32mif\u001b[0m \u001b[0mlen\u001b[0m\u001b[1;33m(\u001b[0m\u001b[0mmapped\u001b[0m\u001b[1;33m)\u001b[0m \u001b[1;32mand\u001b[0m \u001b[0misinstance\u001b[0m\u001b[1;33m(\u001b[0m\u001b[0mmapped\u001b[0m\u001b[1;33m[\u001b[0m\u001b[1;36m0\u001b[0m\u001b[1;33m]\u001b[0m\u001b[1;33m,\u001b[0m \u001b[0mSeries\u001b[0m\u001b[1;33m)\u001b[0m\u001b[1;33m:\u001b[0m\u001b[1;33m\u001b[0m\u001b[0m\n",
      "\u001b[1;32mpandas\\_libs\\src\\inference.pyx\u001b[0m in \u001b[0;36mpandas._libs.lib.map_infer (pandas\\_libs\\lib.c:66440)\u001b[1;34m()\u001b[0m\n",
      "\u001b[1;32mC:\\Users\\caoba\\Anaconda3\\lib\\site-packages\\geopandas\\geoseries.py\u001b[0m in \u001b[0;36m<lambda>\u001b[1;34m(geom)\u001b[0m\n\u001b[0;32m    286\u001b[0m         \u001b[0mproj_out\u001b[0m \u001b[1;33m=\u001b[0m \u001b[0mpyproj\u001b[0m\u001b[1;33m.\u001b[0m\u001b[0mProj\u001b[0m\u001b[1;33m(\u001b[0m\u001b[0mcrs\u001b[0m\u001b[1;33m,\u001b[0m \u001b[0mpreserve_units\u001b[0m\u001b[1;33m=\u001b[0m\u001b[1;32mTrue\u001b[0m\u001b[1;33m)\u001b[0m\u001b[1;33m\u001b[0m\u001b[0m\n\u001b[0;32m    287\u001b[0m         \u001b[0mproject\u001b[0m \u001b[1;33m=\u001b[0m \u001b[0mpartial\u001b[0m\u001b[1;33m(\u001b[0m\u001b[0mpyproj\u001b[0m\u001b[1;33m.\u001b[0m\u001b[0mtransform\u001b[0m\u001b[1;33m,\u001b[0m \u001b[0mproj_in\u001b[0m\u001b[1;33m,\u001b[0m \u001b[0mproj_out\u001b[0m\u001b[1;33m)\u001b[0m\u001b[1;33m\u001b[0m\u001b[0m\n\u001b[1;32m--> 288\u001b[1;33m         \u001b[0mresult\u001b[0m \u001b[1;33m=\u001b[0m \u001b[0mself\u001b[0m\u001b[1;33m.\u001b[0m\u001b[0mapply\u001b[0m\u001b[1;33m(\u001b[0m\u001b[1;32mlambda\u001b[0m \u001b[0mgeom\u001b[0m\u001b[1;33m:\u001b[0m \u001b[0mtransform\u001b[0m\u001b[1;33m(\u001b[0m\u001b[0mproject\u001b[0m\u001b[1;33m,\u001b[0m \u001b[0mgeom\u001b[0m\u001b[1;33m)\u001b[0m\u001b[1;33m)\u001b[0m\u001b[1;33m\u001b[0m\u001b[0m\n\u001b[0m\u001b[0;32m    289\u001b[0m         \u001b[0mresult\u001b[0m\u001b[1;33m.\u001b[0m\u001b[0m__class__\u001b[0m \u001b[1;33m=\u001b[0m \u001b[0mGeoSeries\u001b[0m\u001b[1;33m\u001b[0m\u001b[0m\n\u001b[0;32m    290\u001b[0m         \u001b[0mresult\u001b[0m\u001b[1;33m.\u001b[0m\u001b[0mcrs\u001b[0m \u001b[1;33m=\u001b[0m \u001b[0mcrs\u001b[0m\u001b[1;33m\u001b[0m\u001b[0m\n",
      "\u001b[1;32mC:\\Users\\caoba\\Anaconda3\\lib\\site-packages\\shapely\\ops.py\u001b[0m in \u001b[0;36mtransform\u001b[1;34m(func, geom)\u001b[0m\n\u001b[0;32m    230\u001b[0m         \u001b[1;32mtry\u001b[0m\u001b[1;33m:\u001b[0m\u001b[1;33m\u001b[0m\u001b[0m\n\u001b[0;32m    231\u001b[0m             \u001b[1;32mif\u001b[0m \u001b[0mgeom\u001b[0m\u001b[1;33m.\u001b[0m\u001b[0mtype\u001b[0m \u001b[1;32min\u001b[0m \u001b[1;33m(\u001b[0m\u001b[1;34m'Point'\u001b[0m\u001b[1;33m,\u001b[0m \u001b[1;34m'LineString'\u001b[0m\u001b[1;33m,\u001b[0m \u001b[1;34m'LinearRing'\u001b[0m\u001b[1;33m)\u001b[0m\u001b[1;33m:\u001b[0m\u001b[1;33m\u001b[0m\u001b[0m\n\u001b[1;32m--> 232\u001b[1;33m                 \u001b[1;32mreturn\u001b[0m \u001b[0mtype\u001b[0m\u001b[1;33m(\u001b[0m\u001b[0mgeom\u001b[0m\u001b[1;33m)\u001b[0m\u001b[1;33m(\u001b[0m\u001b[0mzip\u001b[0m\u001b[1;33m(\u001b[0m\u001b[1;33m*\u001b[0m\u001b[0mfunc\u001b[0m\u001b[1;33m(\u001b[0m\u001b[1;33m*\u001b[0m\u001b[0mizip\u001b[0m\u001b[1;33m(\u001b[0m\u001b[1;33m*\u001b[0m\u001b[0mgeom\u001b[0m\u001b[1;33m.\u001b[0m\u001b[0mcoords\u001b[0m\u001b[1;33m)\u001b[0m\u001b[1;33m)\u001b[0m\u001b[1;33m)\u001b[0m\u001b[1;33m)\u001b[0m\u001b[1;33m\u001b[0m\u001b[0m\n\u001b[0m\u001b[0;32m    233\u001b[0m             \u001b[1;32melif\u001b[0m \u001b[0mgeom\u001b[0m\u001b[1;33m.\u001b[0m\u001b[0mtype\u001b[0m \u001b[1;33m==\u001b[0m \u001b[1;34m'Polygon'\u001b[0m\u001b[1;33m:\u001b[0m\u001b[1;33m\u001b[0m\u001b[0m\n\u001b[0;32m    234\u001b[0m                 shell = type(geom.exterior)(\n",
      "\u001b[1;32mC:\\Users\\caoba\\Anaconda3\\lib\\site-packages\\pyproj\\__init__.py\u001b[0m in \u001b[0;36mtransform\u001b[1;34m(p1, p2, x, y, z, radians)\u001b[0m\n\u001b[0;32m    502\u001b[0m         \u001b[0minz\u001b[0m \u001b[1;33m=\u001b[0m \u001b[1;32mNone\u001b[0m\u001b[1;33m\u001b[0m\u001b[0m\n\u001b[0;32m    503\u001b[0m     \u001b[1;31m# call pj_transform.  inx,iny,inz buffers modified in place.\u001b[0m\u001b[1;33m\u001b[0m\u001b[1;33m\u001b[0m\u001b[0m\n\u001b[1;32m--> 504\u001b[1;33m     \u001b[0m_proj\u001b[0m\u001b[1;33m.\u001b[0m\u001b[0m_transform\u001b[0m\u001b[1;33m(\u001b[0m\u001b[0mp1\u001b[0m\u001b[1;33m,\u001b[0m\u001b[0mp2\u001b[0m\u001b[1;33m,\u001b[0m\u001b[0minx\u001b[0m\u001b[1;33m,\u001b[0m\u001b[0miny\u001b[0m\u001b[1;33m,\u001b[0m\u001b[0minz\u001b[0m\u001b[1;33m,\u001b[0m\u001b[0mradians\u001b[0m\u001b[1;33m)\u001b[0m\u001b[1;33m\u001b[0m\u001b[0m\n\u001b[0m\u001b[0;32m    505\u001b[0m     \u001b[1;31m# if inputs were lists, tuples or floats, convert back.\u001b[0m\u001b[1;33m\u001b[0m\u001b[1;33m\u001b[0m\u001b[0m\n\u001b[0;32m    506\u001b[0m     \u001b[0moutx\u001b[0m \u001b[1;33m=\u001b[0m \u001b[0m_convertback\u001b[0m\u001b[1;33m(\u001b[0m\u001b[0mxisfloat\u001b[0m\u001b[1;33m,\u001b[0m\u001b[0mxislist\u001b[0m\u001b[1;33m,\u001b[0m\u001b[0mxistuple\u001b[0m\u001b[1;33m,\u001b[0m\u001b[0minx\u001b[0m\u001b[1;33m)\u001b[0m\u001b[1;33m\u001b[0m\u001b[0m\n",
      "\u001b[1;32m_proj.pyx\u001b[0m in \u001b[0;36m_proj._transform (_proj.c:3762)\u001b[1;34m()\u001b[0m\n",
      "\u001b[1;31mRuntimeError\u001b[0m: b'latitude or longitude exceeded limits'"
     ]
    }
   ],
   "source": [
    "abb = abb.to_crs(epsg=2263)\n",
    "bbl = bbl.to_crs(epsg=2263)"
   ]
  },
  {
   "cell_type": "code",
   "execution_count": null,
   "metadata": {},
   "outputs": [],
   "source": [
    "bbl.crs"
   ]
  },
  {
   "cell_type": "code",
   "execution_count": null,
   "metadata": {},
   "outputs": [],
   "source": [
    "abb.crs"
   ]
  },
  {
   "cell_type": "code",
   "execution_count": null,
   "metadata": {},
   "outputs": [],
   "source": [
    "abb.shape"
   ]
  },
  {
   "cell_type": "code",
   "execution_count": null,
   "metadata": {
    "collapsed": true
   },
   "outputs": [],
   "source": [
    "merged_100 = sjoin(abb, bbl, how='right',op='within')"
   ]
  },
  {
   "cell_type": "code",
   "execution_count": null,
   "metadata": {},
   "outputs": [],
   "source": [
    "merged_100.head()"
   ]
  },
  {
   "cell_type": "code",
   "execution_count": null,
   "metadata": {
    "collapsed": true
   },
   "outputs": [],
   "source": [
    "merged_100.reset_index(inplace=True)"
   ]
  },
  {
   "cell_type": "code",
   "execution_count": null,
   "metadata": {},
   "outputs": [],
   "source": [
    "merged_100.shape"
   ]
  },
  {
   "cell_type": "code",
   "execution_count": null,
   "metadata": {},
   "outputs": [],
   "source": [
    "merged_100.head()"
   ]
  },
  {
   "cell_type": "code",
   "execution_count": null,
   "metadata": {
    "collapsed": true
   },
   "outputs": [],
   "source": [
    "grp_data = pd.DataFrame(merged_100.groupby(['BBL', 'year', 'Borough'])['id'].count()).reset_index()"
   ]
  },
  {
   "cell_type": "code",
   "execution_count": null,
   "metadata": {},
   "outputs": [],
   "source": [
    "grp_data.id.describe()"
   ]
  },
  {
   "cell_type": "code",
   "execution_count": null,
   "metadata": {},
   "outputs": [],
   "source": [
    "grp_data.head()"
   ]
  },
  {
   "cell_type": "code",
   "execution_count": null,
   "metadata": {},
   "outputs": [],
   "source": [
    "plt.hist(grp_data['id'])"
   ]
  },
  {
   "cell_type": "code",
   "execution_count": null,
   "metadata": {
    "collapsed": true
   },
   "outputs": [],
   "source": [
    "grp_data.to_csv('bbl_count_1-00.csv')"
   ]
  },
  {
   "cell_type": "code",
   "execution_count": null,
   "metadata": {
    "collapsed": true
   },
   "outputs": [],
   "source": []
  },
  {
   "cell_type": "code",
   "execution_count": null,
   "metadata": {
    "collapsed": true
   },
   "outputs": [],
   "source": []
  }
 ],
 "metadata": {
  "kernelspec": {
   "display_name": "Python 3",
   "language": "python",
   "name": "python3"
  },
  "language_info": {
   "codemirror_mode": {
    "name": "ipython",
    "version": 3
   },
   "file_extension": ".py",
   "mimetype": "text/x-python",
   "name": "python",
   "nbconvert_exporter": "python",
   "pygments_lexer": "ipython3",
   "version": "3.6.1"
  }
 },
 "nbformat": 4,
 "nbformat_minor": 2
}
