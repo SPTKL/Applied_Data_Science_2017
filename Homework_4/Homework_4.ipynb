{
 "cells": [
  {
   "cell_type": "code",
   "execution_count": 263,
   "metadata": {},
   "outputs": [],
   "source": [
    "import pandas as pd\n",
    "import numpy as np\n",
    "from sklearn.datasets import make_classification\n",
    "from sklearn.datasets import make_blobs\n",
    "from matplotlib.pylab import plt\n",
    "\n",
    "from sklearn.decomposition import PCA\n",
    "from sklearn.cross_validation import train_test_split\n",
    "from mpl_toolkits.mplot3d import Axes3D\n",
    "from sklearn import datasets\n",
    "\n",
    "#kmean\n",
    "from scipy.spatial.distance import cdist, pdist\n",
    "from sklearn.cluster import KMeans\n",
    "from sklearn.metrics import silhouette_samples, silhouette_score\n",
    "\n",
    "#Gaussian mixture\n",
    "from sklearn.mixture import GaussianMixture\n",
    "\n",
    "#logistics regression\n",
    "from sklearn.linear_model import LogisticRegression\n",
    "from sklearn.metrics import confusion_matrix, accuracy_score, precision_score, classification_report\n",
    "\n",
    "\n",
    "\n",
    "%matplotlib inline"
   ]
  },
  {
   "cell_type": "markdown",
   "metadata": {},
   "source": [
    "## Question 1.  (33 pts)\n",
    "\n",
    "Let's explore clustering models on an artificial data set with five features."
   ]
  },
  {
   "cell_type": "code",
   "execution_count": 162,
   "metadata": {},
   "outputs": [
    {
     "data": {
      "text/html": [
       "<div>\n",
       "<style>\n",
       "    .dataframe thead tr:only-child th {\n",
       "        text-align: right;\n",
       "    }\n",
       "\n",
       "    .dataframe thead th {\n",
       "        text-align: left;\n",
       "    }\n",
       "\n",
       "    .dataframe tbody tr th {\n",
       "        vertical-align: top;\n",
       "    }\n",
       "</style>\n",
       "<table border=\"1\" class=\"dataframe\">\n",
       "  <thead>\n",
       "    <tr style=\"text-align: right;\">\n",
       "      <th></th>\n",
       "      <th>1</th>\n",
       "      <th>2</th>\n",
       "      <th>3</th>\n",
       "      <th>4</th>\n",
       "      <th>5</th>\n",
       "    </tr>\n",
       "  </thead>\n",
       "  <tbody>\n",
       "    <tr>\n",
       "      <th>0</th>\n",
       "      <td>0.624358</td>\n",
       "      <td>-0.007694</td>\n",
       "      <td>0.157510</td>\n",
       "      <td>0.440554</td>\n",
       "      <td>0.157423</td>\n",
       "    </tr>\n",
       "    <tr>\n",
       "      <th>1</th>\n",
       "      <td>-0.065098</td>\n",
       "      <td>-0.000790</td>\n",
       "      <td>0.271934</td>\n",
       "      <td>0.224854</td>\n",
       "      <td>0.158883</td>\n",
       "    </tr>\n",
       "    <tr>\n",
       "      <th>2</th>\n",
       "      <td>-0.086525</td>\n",
       "      <td>-0.280988</td>\n",
       "      <td>-0.025699</td>\n",
       "      <td>0.263920</td>\n",
       "      <td>0.421017</td>\n",
       "    </tr>\n",
       "    <tr>\n",
       "      <th>3</th>\n",
       "      <td>-0.581743</td>\n",
       "      <td>-0.275640</td>\n",
       "      <td>-0.290320</td>\n",
       "      <td>-0.213967</td>\n",
       "      <td>0.497857</td>\n",
       "    </tr>\n",
       "    <tr>\n",
       "      <th>4</th>\n",
       "      <td>0.170606</td>\n",
       "      <td>1.020045</td>\n",
       "      <td>-0.583633</td>\n",
       "      <td>0.887644</td>\n",
       "      <td>0.105641</td>\n",
       "    </tr>\n",
       "  </tbody>\n",
       "</table>\n",
       "</div>"
      ],
      "text/plain": [
       "          1         2         3         4         5\n",
       "0  0.624358 -0.007694  0.157510  0.440554  0.157423\n",
       "1 -0.065098 -0.000790  0.271934  0.224854  0.158883\n",
       "2 -0.086525 -0.280988 -0.025699  0.263920  0.421017\n",
       "3 -0.581743 -0.275640 -0.290320 -0.213967  0.497857\n",
       "4  0.170606  1.020045 -0.583633  0.887644  0.105641"
      ]
     },
     "execution_count": 162,
     "metadata": {},
     "output_type": "execute_result"
    }
   ],
   "source": [
    "data1 = pd.read_csv('hw4data1.csv')\n",
    "data1.head()"
   ]
  },
  {
   "cell_type": "markdown",
   "metadata": {},
   "source": [
    "#### a) First, visualize the data after applying PCA in two dimensions. Based on the plot (with axes corresponding to the two leading PCs), guess the number of clusters we could have. (5 pts)\n",
    "\n",
    "#### b) Use K-means to cluster the original data based on your guess for the number of clusters. Report the resulting labels. (3 pts)\n",
    "\n",
    "#### c) Visualize the clustering result: reuse the plot from part a) and color the points according to the labels obtained in part b). (5 pts)\n",
    "\n",
    "#### d) Justify your guess for k (the optimal number of clusters for K-means clustering) by first using silhouette_score and then the Elbow method on the original data. Briefly explain your approach. Are your results consistent? (12 pts)\n",
    "\n",
    "#### e) Using a Gaussian Mixture model instead of K-means (but with the same value for k), repeat parts b) and c). (8 pts)"
   ]
  },
  {
   "cell_type": "code",
   "execution_count": 163,
   "metadata": {},
   "outputs": [
    {
     "data": {
      "image/png": "[encoded data removed]",
      "text/plain": [
       "<matplotlib.figure.Figure at 0x2190a4738d0>"
      ]
     },
     "metadata": {},
     "output_type": "display_data"
    }
   ],
   "source": [
    "#a) \n",
    "n = data1.shape[1]\n",
    "pca = PCA(n)\n",
    "data1_ = pca.fit_transform(data1)\n",
    "plt.scatter(data1_[:,0], data1_[:,1]);\n",
    "\n",
    "#base on the plots we can see 4 clusters"
   ]
  },
  {
   "cell_type": "code",
   "execution_count": 164,
   "metadata": {},
   "outputs": [
    {
     "name": "stdout",
     "output_type": "stream",
     "text": [
      "[3 3 3 3 3 3 3 3 3 3 3 3 3 3 3 3 3 3 3 3 3 3 3 3 3 0 0 0 0 0 0 0 0 0 0 0 0\n",
      " 0 0 0 0 0 0 0 0 0 0 0 0 0 1 1 1 1 1 1 1 1 1 1 1 1 1 1 1 1 1 1 1 1 1 1 1 1\n",
      " 1 2 2 2 2 2 2 2 2 2 2 2 2 2 2 2 2 2 2 2 2 2 2 2 2 2]\n"
     ]
    }
   ],
   "source": [
    "#b)\n",
    "KM = KMeans(n_clusters=4).fit(data1)\n",
    "print(KM.labels_)"
   ]
  },
  {
   "cell_type": "code",
   "execution_count": 165,
   "metadata": {},
   "outputs": [
    {
     "data": {
      "image/png": "[encoded data removed]",
      "text/plain": [
       "<matplotlib.figure.Figure at 0x2190a3b4e80>"
      ]
     },
     "metadata": {},
     "output_type": "display_data"
    }
   ],
   "source": [
    "#c)\n",
    "plt.scatter(data1_[:,0], data1_[:,1], c = KM.labels_ );"
   ]
  },
  {
   "cell_type": "code",
   "execution_count": 334,
   "metadata": {
    "collapsed": true
   },
   "outputs": [],
   "source": [
    "#d) \n",
    "def elbow(data,K):\n",
    "#data is your input as numpy form\n",
    "#K is a list of number of clusters you would like to show.\n",
    "    # Run the KMeans model and save all the results for each number of clusters\n",
    "    KM = [KMeans(n_clusters=k).fit(data) for k in K]\n",
    "    \n",
    "    # Save the centroids for each model with a increasing k\n",
    "    centroids = [k.cluster_centers_ for k in KM]\n",
    "\n",
    "    # For each k, get the distance between the data with each center. \n",
    "    D_k = [cdist(data, cent, 'euclidean') for cent in centroids]\n",
    "    \n",
    "    # But we only need the distance to the nearest centroid since we only calculate dist(x,ci) for its own cluster.\n",
    "    globals()['dist'] = [np.min(D,axis=1) for D in D_k]\n",
    "    \n",
    "    # Calculate the Average SSE.\n",
    "    avgWithinSS = [sum(d)/data.shape[0] for d in dist]\n",
    "    \n",
    "    \n",
    "    # elbow curve\n",
    "    fig = plt.figure()\n",
    "    ax = fig.add_subplot(111)\n",
    "    ax.plot(K, avgWithinSS, 'b*-')\n",
    "    plt.grid(True)\n",
    "    plt.xlabel('Number of clusters')\n",
    "    plt.ylabel('Average within-cluster sum of squares')\n",
    "    plt.title('Elbow for KMeans clustering')\n",
    "    plt.show()\n",
    "    \n",
    "    \n",
    "    # Total with-in sum of square plot. Another way to show the result.\n",
    "    wcss = [sum(d**2) for d in dist]\n",
    "    tss = sum(pdist(data)**2)/data.shape[0]\n",
    "    bss = tss-wcss\n",
    "    \n",
    "    fig = plt.figure()\n",
    "    ax = fig.add_subplot(111)\n",
    "    ax.plot(K, bss/tss*100, 'b*-')\n",
    "    plt.grid(True)\n",
    "    plt.xlabel('Number of clusters')\n",
    "    plt.ylabel('Percentage of variance explained')\n",
    "    plt.title('Elbow for KMeans clustering')\n",
    "    plt.show()"
   ]
  },
  {
   "cell_type": "code",
   "execution_count": 167,
   "metadata": {},
   "outputs": [
    {
     "name": "stdout",
     "output_type": "stream",
     "text": [
      "For n_clusters = 2 The average silhouette_score is : 0.57509003827\n",
      "For n_clusters = 3 The average silhouette_score is : 0.734781965186\n",
      "For n_clusters = 4 The average silhouette_score is : 0.850803605875\n",
      "For n_clusters = 5 The average silhouette_score is : 0.700651501101\n",
      "For n_clusters = 6 The average silhouette_score is : 0.553487179483\n"
     ]
    },
    {
     "data": {
      "image/png": "[encoded data removed]",
      "text/plain": [
       "<matplotlib.figure.Figure at 0x2190a7a8e48>"
      ]
     },
     "metadata": {},
     "output_type": "display_data"
    },
    {
     "data": {
      "image/png": "[encoded data removed]",
      "text/plain": [
       "<matplotlib.figure.Figure at 0x2190a368240>"
      ]
     },
     "metadata": {},
     "output_type": "display_data"
    }
   ],
   "source": [
    "X=np.asarray(data1.iloc[:,:-1])\n",
    "range_n_clusters = [2, 3, 4, 5, 6]\n",
    "\n",
    "for n_clusters in range_n_clusters:\n",
    "\n",
    "    clusterer = KMeans(n_clusters=n_clusters, random_state=324)\n",
    "    cluster_labels = clusterer.fit_predict(X)\n",
    "    silhouette_avg = silhouette_score(X, cluster_labels)\n",
    "    print(\"For n_clusters =\", n_clusters,\n",
    "          \"The average silhouette_score is :\", silhouette_avg)\n",
    "    sample_silhouette_values = silhouette_samples(X, cluster_labels)\n",
    "#elbow\n",
    "elbow(X,range(1,10))"
   ]
  },
  {
   "cell_type": "markdown",
   "metadata": {},
   "source": [
    "* from the average silluette score, we can see that 4 clusters is the best number of clusters \n",
    "* from the elbow plots, we can see the best number of clusters is 4\n",
    "* since when number of cluster is 4, \n",
    "    * average within-cluster sum of squares starts to converge \n",
    "    * Percentage of variance explained starts to converge to 100%\n",
    "* the result is consistent with previous prediction"
   ]
  },
  {
   "cell_type": "code",
   "execution_count": 168,
   "metadata": {},
   "outputs": [
    {
     "name": "stdout",
     "output_type": "stream",
     "text": [
      "[0 0 0 0 0 0 0 0 0 0 0 0 0 0 0 0 0 0 0 0 0 0 0 0 0 3 3 3 3 3 3 3 3 3 3 3 3\n",
      " 3 3 3 3 3 3 3 3 3 3 3 3 3 2 2 2 2 2 2 2 2 2 2 2 2 2 2 2 2 2 2 2 2 2 2 2 2\n",
      " 2 1 1 1 1 1 1 1 1 1 1 1 1 1 1 1 1 1 1 1 1 1 1 1 1 1]\n"
     ]
    }
   ],
   "source": [
    "#e) Using a Gaussian Mixture model (with same k), repeat parts b) and c).\n",
    "n=4 # number of clusters.\n",
    "\n",
    "GM = GaussianMixture(n_components=n)\n",
    "GM.fit(data1.iloc[:,:-1])\n",
    "res_Mix=GM.predict(data1.iloc[:,:-1])\n",
    "print(res_Mix)"
   ]
  },
  {
   "cell_type": "code",
   "execution_count": 169,
   "metadata": {},
   "outputs": [
    {
     "data": {
      "image/png": "[encoded data removed]",
      "text/plain": [
       "<matplotlib.figure.Figure at 0x2190e39a128>"
      ]
     },
     "metadata": {},
     "output_type": "display_data"
    }
   ],
   "source": [
    "plt.scatter(data1_[:,0], data1_[:,1], c = res_Mix );"
   ]
  },
  {
   "cell_type": "markdown",
   "metadata": {},
   "source": [
    "## Question 2. (14 pts)"
   ]
  },
  {
   "cell_type": "markdown",
   "metadata": {},
   "source": [
    "The following data comes from a larger set detailing every motor vehicle collision in NYC (available [here](https://data.cityofnewyork.us/Public-Safety/NYPD-Motor-Vehicle-Collisions/h9gi-nx95)). This particular subset only considers collisions that occurred on October 31, 2017.\n",
    "\n",
    "You have 680 collision records in the file ‘NYPD_Motor_Vehicle_Collisions_Duplicates.csv’, but you realize that some of these are actually duplicates resulting from a technical error. You know that there are approximately 620 unique records in the file, but you want to determine the exact number."
   ]
  },
  {
   "cell_type": "code",
   "execution_count": 330,
   "metadata": {},
   "outputs": [
    {
     "data": {
      "text/html": [
       "<div>\n",
       "<style>\n",
       "    .dataframe thead tr:only-child th {\n",
       "        text-align: right;\n",
       "    }\n",
       "\n",
       "    .dataframe thead th {\n",
       "        text-align: left;\n",
       "    }\n",
       "\n",
       "    .dataframe tbody tr th {\n",
       "        vertical-align: top;\n",
       "    }\n",
       "</style>\n",
       "<table border=\"1\" class=\"dataframe\">\n",
       "  <thead>\n",
       "    <tr style=\"text-align: right;\">\n",
       "      <th></th>\n",
       "      <th>DATE</th>\n",
       "      <th>TIME</th>\n",
       "      <th>BOROUGH</th>\n",
       "      <th>ZIP CODE</th>\n",
       "      <th>LATITUDE</th>\n",
       "      <th>LONGITUDE</th>\n",
       "      <th>LOCATION</th>\n",
       "      <th>ON STREET NAME</th>\n",
       "      <th>CROSS STREET NAME</th>\n",
       "      <th>OFF STREET NAME</th>\n",
       "      <th>...</th>\n",
       "      <th>CONTRIBUTING FACTOR VEHICLE 2</th>\n",
       "      <th>CONTRIBUTING FACTOR VEHICLE 3</th>\n",
       "      <th>CONTRIBUTING FACTOR VEHICLE 4</th>\n",
       "      <th>CONTRIBUTING FACTOR VEHICLE 5</th>\n",
       "      <th>UNIQUE KEY</th>\n",
       "      <th>VEHICLE TYPE CODE 1</th>\n",
       "      <th>VEHICLE TYPE CODE 2</th>\n",
       "      <th>VEHICLE TYPE CODE 3</th>\n",
       "      <th>VEHICLE TYPE CODE 4</th>\n",
       "      <th>VEHICLE TYPE CODE 5</th>\n",
       "    </tr>\n",
       "  </thead>\n",
       "  <tbody>\n",
       "    <tr>\n",
       "      <th>0</th>\n",
       "      <td>10/31/2017</td>\n",
       "      <td>0:00</td>\n",
       "      <td></td>\n",
       "      <td></td>\n",
       "      <td>40.7331</td>\n",
       "      <td>-73.9548</td>\n",
       "      <td>(40.733135, -73.954765)</td>\n",
       "      <td>MANHATTAN AVENUE</td>\n",
       "      <td></td>\n",
       "      <td></td>\n",
       "      <td>...</td>\n",
       "      <td>Unspecified</td>\n",
       "      <td></td>\n",
       "      <td></td>\n",
       "      <td></td>\n",
       "      <td>3781862</td>\n",
       "      <td>PICK-UP TRUCK</td>\n",
       "      <td>PICK-UP TRUCK</td>\n",
       "      <td></td>\n",
       "      <td></td>\n",
       "      <td></td>\n",
       "    </tr>\n",
       "    <tr>\n",
       "      <th>1</th>\n",
       "      <td>10/31/2017</td>\n",
       "      <td>0:00</td>\n",
       "      <td></td>\n",
       "      <td></td>\n",
       "      <td>40.7535</td>\n",
       "      <td>-73.8979</td>\n",
       "      <td>(40.75351, -73.8979)</td>\n",
       "      <td></td>\n",
       "      <td></td>\n",
       "      <td></td>\n",
       "      <td>...</td>\n",
       "      <td>Unspecified</td>\n",
       "      <td></td>\n",
       "      <td></td>\n",
       "      <td></td>\n",
       "      <td>3781130</td>\n",
       "      <td>SPORT UTILITY / STATION WAGON</td>\n",
       "      <td>PASSENGER VEHICLE</td>\n",
       "      <td></td>\n",
       "      <td></td>\n",
       "      <td></td>\n",
       "    </tr>\n",
       "    <tr>\n",
       "      <th>2</th>\n",
       "      <td>10/31/2017</td>\n",
       "      <td>0:00</td>\n",
       "      <td>MANHATTAN</td>\n",
       "      <td>10036</td>\n",
       "      <td>40.7597</td>\n",
       "      <td>-73.9917</td>\n",
       "      <td>(40.759727, -73.99169)</td>\n",
       "      <td>WEST 44 STREET</td>\n",
       "      <td>9 AVENUE</td>\n",
       "      <td></td>\n",
       "      <td>...</td>\n",
       "      <td></td>\n",
       "      <td></td>\n",
       "      <td></td>\n",
       "      <td></td>\n",
       "      <td>3781009</td>\n",
       "      <td>PASSENGER VEHICLE</td>\n",
       "      <td></td>\n",
       "      <td></td>\n",
       "      <td></td>\n",
       "      <td></td>\n",
       "    </tr>\n",
       "    <tr>\n",
       "      <th>3</th>\n",
       "      <td>10/31/2017</td>\n",
       "      <td>0:00</td>\n",
       "      <td>BROOKLYN</td>\n",
       "      <td>11207</td>\n",
       "      <td></td>\n",
       "      <td></td>\n",
       "      <td></td>\n",
       "      <td>LINDEN BOULEVARD</td>\n",
       "      <td>WILLIAMS AVENUE</td>\n",
       "      <td></td>\n",
       "      <td>...</td>\n",
       "      <td>Unspecified</td>\n",
       "      <td></td>\n",
       "      <td></td>\n",
       "      <td></td>\n",
       "      <td>3780501</td>\n",
       "      <td>PASSENGER VEHICLE</td>\n",
       "      <td>DS</td>\n",
       "      <td></td>\n",
       "      <td></td>\n",
       "      <td></td>\n",
       "    </tr>\n",
       "    <tr>\n",
       "      <th>4</th>\n",
       "      <td>10/31/2017</td>\n",
       "      <td>0:00</td>\n",
       "      <td>MANHATTAN</td>\n",
       "      <td>10030</td>\n",
       "      <td>40.8156</td>\n",
       "      <td>-73.9435</td>\n",
       "      <td>(40.81561, -73.943474)</td>\n",
       "      <td></td>\n",
       "      <td></td>\n",
       "      <td>2309      7 AVENUE</td>\n",
       "      <td>...</td>\n",
       "      <td>Unspecified</td>\n",
       "      <td>Unspecified</td>\n",
       "      <td></td>\n",
       "      <td></td>\n",
       "      <td>3780511</td>\n",
       "      <td>SPORT UTILITY / STATION WAGON</td>\n",
       "      <td>PASSENGER VEHICLE</td>\n",
       "      <td>PASSENGER VEHICLE</td>\n",
       "      <td></td>\n",
       "      <td></td>\n",
       "    </tr>\n",
       "  </tbody>\n",
       "</table>\n",
       "<p>5 rows × 29 columns</p>\n",
       "</div>"
      ],
      "text/plain": [
       "         DATE  TIME    BOROUGH ZIP CODE LATITUDE LONGITUDE  \\\n",
       "0  10/31/2017  0:00                      40.7331  -73.9548   \n",
       "1  10/31/2017  0:00                      40.7535  -73.8979   \n",
       "2  10/31/2017  0:00  MANHATTAN    10036  40.7597  -73.9917   \n",
       "3  10/31/2017  0:00   BROOKLYN    11207                      \n",
       "4  10/31/2017  0:00  MANHATTAN    10030  40.8156  -73.9435   \n",
       "\n",
       "                  LOCATION    ON STREET NAME CROSS STREET NAME  \\\n",
       "0  (40.733135, -73.954765)  MANHATTAN AVENUE                     \n",
       "1     (40.75351, -73.8979)                                       \n",
       "2   (40.759727, -73.99169)    WEST 44 STREET          9 AVENUE   \n",
       "3                           LINDEN BOULEVARD   WILLIAMS AVENUE   \n",
       "4   (40.81561, -73.943474)                                       \n",
       "\n",
       "      OFF STREET NAME         ...          CONTRIBUTING FACTOR VEHICLE 2  \\\n",
       "0                             ...                            Unspecified   \n",
       "1                             ...                            Unspecified   \n",
       "2                             ...                                          \n",
       "3                             ...                            Unspecified   \n",
       "4  2309      7 AVENUE         ...                            Unspecified   \n",
       "\n",
       "   CONTRIBUTING FACTOR VEHICLE 3  CONTRIBUTING FACTOR VEHICLE 4  \\\n",
       "0                                                                 \n",
       "1                                                                 \n",
       "2                                                                 \n",
       "3                                                                 \n",
       "4                    Unspecified                                  \n",
       "\n",
       "   CONTRIBUTING FACTOR VEHICLE 5  UNIQUE KEY            VEHICLE TYPE CODE 1  \\\n",
       "0                                    3781862                  PICK-UP TRUCK   \n",
       "1                                    3781130  SPORT UTILITY / STATION WAGON   \n",
       "2                                    3781009              PASSENGER VEHICLE   \n",
       "3                                    3780501              PASSENGER VEHICLE   \n",
       "4                                    3780511  SPORT UTILITY / STATION WAGON   \n",
       "\n",
       "   VEHICLE TYPE CODE 2  VEHICLE TYPE CODE 3 VEHICLE TYPE CODE 4  \\\n",
       "0        PICK-UP TRUCK                                            \n",
       "1    PASSENGER VEHICLE                                            \n",
       "2                                                                 \n",
       "3                   DS                                            \n",
       "4    PASSENGER VEHICLE    PASSENGER VEHICLE                       \n",
       "\n",
       "  VEHICLE TYPE CODE 5  \n",
       "0                      \n",
       "1                      \n",
       "2                      \n",
       "3                      \n",
       "4                      \n",
       "\n",
       "[5 rows x 29 columns]"
      ]
     },
     "execution_count": 330,
     "metadata": {},
     "output_type": "execute_result"
    }
   ],
   "source": [
    "data2 = pd.read_csv('NYPD_Motor_Vehicle_Collisions_Duplicates.csv').fillna('')\n",
    "data2.head()"
   ]
  },
  {
   "cell_type": "markdown",
   "metadata": {},
   "source": [
    "#### a) Implement a clustering technique of your choice that will determine the exact number of unique records. (Hint: assigning each unique record to its own cluster would result in perfect clustering. Cluster the data\\* based on possible values for the number of unique records and observe the results.) Briefly explain your approach. (10 pts)\n",
    "\\* You may first have to factorize the data set, as it contains string variables.\n",
    "\n",
    "#### b) Confirm the number of unique records by using a more straightforward technique to identify duplicate rows. Pandas has a convenient function to drop duplicates for this purpose.  How well did your clustering technique perform?  (4 pts)"
   ]
  },
  {
   "cell_type": "code",
   "execution_count": 335,
   "metadata": {},
   "outputs": [],
   "source": [
    "for col in data2.columns: \n",
    "    data2[col] = pd.factorize(data2[col])[0]"
   ]
  },
  {
   "cell_type": "code",
   "execution_count": 338,
   "metadata": {},
   "outputs": [
    {
     "data": {
      "image/png": "[encoded data removed]",
      "text/plain": [
       "<matplotlib.figure.Figure at 0x2190beb29b0>"
      ]
     },
     "metadata": {},
     "output_type": "display_data"
    },
    {
     "data": {
      "image/png": "[encoded data removed]",
      "text/plain": [
       "<matplotlib.figure.Figure at 0x2190beb69e8>"
      ]
     },
     "metadata": {},
     "output_type": "display_data"
    }
   ],
   "source": [
    "elbow(data2,range(610, 620))"
   ]
  },
  {
   "cell_type": "code",
   "execution_count": 173,
   "metadata": {},
   "outputs": [
    {
     "name": "stdout",
     "output_type": "stream",
     "text": [
      "For n_clusters = 610 The average silhouette_score is : 0.196017730642\n",
      "For n_clusters = 611 The average silhouette_score is : 0.194547213626\n",
      "For n_clusters = 612 The average silhouette_score is : 0.193554746012\n",
      "For n_clusters = 613 The average silhouette_score is : 0.191604698624\n",
      "For n_clusters = 614 The average silhouette_score is : 0.190297697768\n",
      "For n_clusters = 615 The average silhouette_score is : 0.19068380951\n",
      "For n_clusters = 616 The average silhouette_score is : 0.187895298259\n",
      "For n_clusters = 617 The average silhouette_score is : 0.185294117647\n",
      "For n_clusters = 618 The average silhouette_score is : 0.185294117647\n",
      "For n_clusters = 619 The average silhouette_score is : 0.185294117647\n"
     ]
    }
   ],
   "source": [
    "X=np.asarray(data2.iloc[:,:-1])\n",
    "range_n_clusters = range(610, 620)\n",
    "\n",
    "for n_clusters in range_n_clusters:\n",
    "\n",
    "    clusterer = KMeans(n_clusters=n_clusters, random_state= 356)\n",
    "    cluster_labels = clusterer.fit_predict(X)\n",
    "    silhouette_avg = silhouette_score(X, cluster_labels)\n",
    "    print(\"For n_clusters =\", n_clusters,\n",
    "          \"The average silhouette_score is :\", silhouette_avg)\n",
    "    sample_silhouette_values = silhouette_samples(X, cluster_labels)"
   ]
  },
  {
   "cell_type": "markdown",
   "metadata": {},
   "source": [
    "* The average silhouette score stops improving at k = 617, and from the elbow plots, k = 617 is the inflection points, hence, there are 617 unique rows. "
   ]
  },
  {
   "cell_type": "code",
   "execution_count": 174,
   "metadata": {},
   "outputs": [
    {
     "data": {
      "text/plain": [
       "(617, 29)"
      ]
     },
     "execution_count": 174,
     "metadata": {},
     "output_type": "execute_result"
    }
   ],
   "source": [
    "data2.drop_duplicates().shape"
   ]
  },
  {
   "cell_type": "markdown",
   "metadata": {},
   "source": [
    "* above confirms my observation"
   ]
  },
  {
   "cell_type": "markdown",
   "metadata": {},
   "source": [
    "## Question 3. (8 pts)"
   ]
  },
  {
   "cell_type": "markdown",
   "metadata": {},
   "source": [
    "Which of the following is always true for the confusion matrix resulting from a binary classification task? (Select all that apply.)\n",
    "* a) it is a square matrix\n",
    "* b) it is symmetrical\n",
    "* c) it has dimensions $3\\times3$\n",
    "* d) it reports the size of each class in the test set\n",
    "* e) it reports the total size of the training set\n",
    "* f) it reports the number of observations the classifier assigned to each class\n",
    "* g) it reports the proportion of correct predictions across the test set"
   ]
  },
  {
   "cell_type": "markdown",
   "metadata": {},
   "source": [
    "__ a) d) g)__"
   ]
  },
  {
   "cell_type": "markdown",
   "metadata": {},
   "source": [
    "## Question 4. (25 pts)"
   ]
  },
  {
   "cell_type": "markdown",
   "metadata": {},
   "source": [
    "For the following logistic regression task, use the first half of the data in 'hw4data4.csv' as the training set, and the second half as the test set."
   ]
  },
  {
   "cell_type": "code",
   "execution_count": 175,
   "metadata": {
    "collapsed": true
   },
   "outputs": [],
   "source": [
    "data4 = pd.read_csv('hw4data4.csv')"
   ]
  },
  {
   "cell_type": "code",
   "execution_count": 176,
   "metadata": {},
   "outputs": [
    {
     "data": {
      "text/html": [
       "<div>\n",
       "<style>\n",
       "    .dataframe thead tr:only-child th {\n",
       "        text-align: right;\n",
       "    }\n",
       "\n",
       "    .dataframe thead th {\n",
       "        text-align: left;\n",
       "    }\n",
       "\n",
       "    .dataframe tbody tr th {\n",
       "        vertical-align: top;\n",
       "    }\n",
       "</style>\n",
       "<table border=\"1\" class=\"dataframe\">\n",
       "  <thead>\n",
       "    <tr style=\"text-align: right;\">\n",
       "      <th></th>\n",
       "      <th>x1</th>\n",
       "      <th>x2</th>\n",
       "      <th>x3</th>\n",
       "      <th>y</th>\n",
       "    </tr>\n",
       "  </thead>\n",
       "  <tbody>\n",
       "    <tr>\n",
       "      <th>0</th>\n",
       "      <td>-1.057594</td>\n",
       "      <td>-0.143935</td>\n",
       "      <td>-1.245903</td>\n",
       "      <td>1</td>\n",
       "    </tr>\n",
       "    <tr>\n",
       "      <th>1</th>\n",
       "      <td>-0.642280</td>\n",
       "      <td>1.382141</td>\n",
       "      <td>0.071458</td>\n",
       "      <td>0</td>\n",
       "    </tr>\n",
       "    <tr>\n",
       "      <th>2</th>\n",
       "      <td>0.842085</td>\n",
       "      <td>2.400458</td>\n",
       "      <td>-0.110854</td>\n",
       "      <td>0</td>\n",
       "    </tr>\n",
       "    <tr>\n",
       "      <th>3</th>\n",
       "      <td>-0.003466</td>\n",
       "      <td>0.725551</td>\n",
       "      <td>-0.007954</td>\n",
       "      <td>0</td>\n",
       "    </tr>\n",
       "    <tr>\n",
       "      <th>4</th>\n",
       "      <td>-0.607444</td>\n",
       "      <td>1.146293</td>\n",
       "      <td>-1.338008</td>\n",
       "      <td>0</td>\n",
       "    </tr>\n",
       "  </tbody>\n",
       "</table>\n",
       "</div>"
      ],
      "text/plain": [
       "         x1        x2        x3  y\n",
       "0 -1.057594 -0.143935 -1.245903  1\n",
       "1 -0.642280  1.382141  0.071458  0\n",
       "2  0.842085  2.400458 -0.110854  0\n",
       "3 -0.003466  0.725551 -0.007954  0\n",
       "4 -0.607444  1.146293 -1.338008  0"
      ]
     },
     "execution_count": 176,
     "metadata": {},
     "output_type": "execute_result"
    }
   ],
   "source": [
    "data4.head()"
   ]
  },
  {
   "cell_type": "markdown",
   "metadata": {},
   "source": [
    "#### a) Construct a logistic regression object for modeling, setting C = 10,000 to disable regularization. (2 pts)\n",
    "\n",
    "#### b) Fit your logistic regression model to the training data. Print out the fitted parameters (including the intercept). (5 pts)\n",
    "\n",
    "#### c) Use your trained model to predict labels for the test data. (3 pts)\n",
    "\n",
    "#### d) Draw two plots: one displaying your predicted labels and another with the actual labels. Include the decision boundary in both. (10 pts)\n",
    "\n",
    "#### e) Compute the confusion matrix. Print out accuracy, recall and precision. (5 pts)"
   ]
  },
  {
   "cell_type": "code",
   "execution_count": 177,
   "metadata": {
    "collapsed": true
   },
   "outputs": [],
   "source": [
    "# a)\n",
    "logit = LogisticRegression(C = 10000)"
   ]
  },
  {
   "cell_type": "code",
   "execution_count": 178,
   "metadata": {},
   "outputs": [],
   "source": [
    "# b) \n",
    "np.random.seed(3)\n",
    "x_train, x_test, y_train, y_test = train_test_split(data4[['x1', 'x2', 'x3']], data4.y, test_size=0.5)\n",
    "logit.fit(x_train, y_train);"
   ]
  },
  {
   "cell_type": "code",
   "execution_count": 179,
   "metadata": {},
   "outputs": [
    {
     "name": "stdout",
     "output_type": "stream",
     "text": [
      "coef: [[-36.17786301 -87.42016916 -37.62810052]]\n",
      "intercept: [-7.41295687]\n"
     ]
    }
   ],
   "source": [
    "print('coef:', logit.coef_) \n",
    "print('intercept:', logit.intercept_) "
   ]
  },
  {
   "cell_type": "code",
   "execution_count": 214,
   "metadata": {},
   "outputs": [
    {
     "data": {
      "text/plain": [
       "array([0, 0, 1, 1, 0, 0, 0, 1, 1, 0, 0, 0, 1, 1, 1, 0, 0, 0, 1, 1, 0, 0, 1,\n",
       "       0, 1, 1, 0, 0, 1, 1, 0, 0, 0, 1, 1, 0, 0, 1, 1, 0, 0, 0, 1, 1, 0, 0,\n",
       "       0, 1, 0, 1, 1, 1, 1, 1, 0, 0, 1, 0, 0, 1, 0, 1, 0, 0, 1, 1, 0, 0, 1,\n",
       "       0, 0, 1, 0, 0, 0, 1, 0, 0, 0, 1, 0, 1, 0, 0, 0, 1, 1, 0, 0, 0, 0, 1,\n",
       "       1, 1, 0, 0, 0, 0, 0, 1], dtype=int64)"
      ]
     },
     "execution_count": 214,
     "metadata": {},
     "output_type": "execute_result"
    }
   ],
   "source": [
    "# c)\n",
    "pred_val = logit.predict(x_test)\n",
    "pred_val"
   ]
  },
  {
   "cell_type": "code",
   "execution_count": 328,
   "metadata": {},
   "outputs": [
    {
     "data": {
      "image/png": "[encoded data removed]",
      "text/plain": [
       "<matplotlib.figure.Figure at 0x2190a778b70>"
      ]
     },
     "metadata": {},
     "output_type": "display_data"
    }
   ],
   "source": [
    "fig = plt.figure(figsize = (14,7))\n",
    "ax, ax1 = fig.add_subplot(121, projection='3d'), fig.add_subplot(122, projection='3d')\n",
    "ax.scatter(x_test.x1, x_test.x2, x_test.x3, c = list(pred_val))\n",
    "z = lambda x,y: (-logit.intercept_[0] - logit.coef_[0][0]*x - logit.coef_[0][1]*y) / logit.coef_[0][2]\n",
    "\n",
    "\n",
    "xx, yy = np.meshgrid(range(-5, 5), range(-5, 5))\n",
    "ax.plot_surface(xx, yy, z(xx, yy),  color='g', alpha = 0.2)\n",
    "ax.set_xlabel('$x_1$', fontsize = 20)\n",
    "ax.set_ylabel('$x_2$', fontsize = 20)\n",
    "ax.set_zlabel('$x_3$', fontsize = 20)\n",
    "ax.set_title('actual')\n",
    "ax.view_init(elev = 0, azim = 160)   \n",
    "\n",
    "ax1.scatter(x_test.x1, x_test.x2, x_test.x3, c = list(pred_val))\n",
    "ax1.plot_surface(xx, yy, z(xx, yy),  color='g', alpha = 0.2)\n",
    "ax1.set_xlabel('$x_1$', fontsize = 20)\n",
    "ax1.set_ylabel('$x_2$', fontsize = 20)\n",
    "ax1.set_zlabel('$x_3$', fontsize = 20)\n",
    "ax1.set_title('predicted')\n",
    "ax1.view_init(elev = 0, azim = 160)   "
   ]
  },
  {
   "cell_type": "code",
   "execution_count": 233,
   "metadata": {},
   "outputs": [
    {
     "data": {
      "text/plain": [
       "array([[57,  0],\n",
       "       [ 1, 42]])"
      ]
     },
     "execution_count": 233,
     "metadata": {},
     "output_type": "execute_result"
    }
   ],
   "source": [
    "confusion_matrix(y_test, pred_val)"
   ]
  },
  {
   "cell_type": "code",
   "execution_count": 235,
   "metadata": {},
   "outputs": [
    {
     "data": {
      "text/plain": [
       "1.0"
      ]
     },
     "execution_count": 235,
     "metadata": {},
     "output_type": "execute_result"
    }
   ],
   "source": [
    "precision_score(y_test, pred_val)"
   ]
  },
  {
   "cell_type": "code",
   "execution_count": 236,
   "metadata": {},
   "outputs": [
    {
     "data": {
      "text/plain": [
       "0.98999999999999999"
      ]
     },
     "execution_count": 236,
     "metadata": {},
     "output_type": "execute_result"
    }
   ],
   "source": [
    "accuracy_score(y_test, pred_val)"
   ]
  },
  {
   "cell_type": "markdown",
   "metadata": {},
   "source": [
    "## Question 5. (20 pts)"
   ]
  },
  {
   "cell_type": "markdown",
   "metadata": {},
   "source": [
    "Let's revisit the Iris data set, which consists of three different classes of irises (labeled 0, 1, and 2).\n",
    "<br>We'll use all four features (sepal length, sepal width, petal length and petal width) to train a logistic regression multi-class classifier.\n",
    "\n",
    "#### a) Load Iris data from sklearn.datasets and set up X and y accordingly (retain all the features for X). (2 pts)\n",
    "\n",
    "#### b) Fit a logistic regression model to the entire data set (no need to split into training and test sets). (5 pts)\n",
    "\n",
    "#### c) Use the model to predict class labels for the same data on which it was trained. (2 pts)\n",
    "\n",
    "#### d) Calculate and print out the multi-class (3$\\times$3) confusion matrix. (5 pts)\n",
    "\n",
    "#### e) Based on the confusion matrix you've obtained, calculate: (2 pts)\n",
    "    i) the precision with respect to the class labeled 0\n",
    "    ii) the model's overall accuracy\n",
    "    \n",
    "#### f) Create a scatter plot of the data after applying PCA in two dimensions. Use the labels obtained in part c) to visualize the classification.  (4 pts)"
   ]
  },
  {
   "cell_type": "code",
   "execution_count": 266,
   "metadata": {
    "collapsed": true
   },
   "outputs": [],
   "source": [
    "#a) \n",
    "iris = datasets.load_iris()"
   ]
  },
  {
   "cell_type": "code",
   "execution_count": 276,
   "metadata": {},
   "outputs": [],
   "source": [
    "X = iris.data\n",
    "Y = iris.target"
   ]
  },
  {
   "cell_type": "code",
   "execution_count": 277,
   "metadata": {},
   "outputs": [],
   "source": [
    "# b)\n",
    "logit1 = LogisticRegression(C = 10000)"
   ]
  },
  {
   "cell_type": "code",
   "execution_count": 278,
   "metadata": {},
   "outputs": [
    {
     "data": {
      "text/plain": [
       "LogisticRegression(C=10000, class_weight=None, dual=False, fit_intercept=True,\n",
       "          intercept_scaling=1, max_iter=100, multi_class='ovr', n_jobs=1,\n",
       "          penalty='l2', random_state=None, solver='liblinear', tol=0.0001,\n",
       "          verbose=0, warm_start=False)"
      ]
     },
     "execution_count": 278,
     "metadata": {},
     "output_type": "execute_result"
    }
   ],
   "source": [
    "logit1.fit(X, Y)"
   ]
  },
  {
   "cell_type": "code",
   "execution_count": 279,
   "metadata": {},
   "outputs": [],
   "source": [
    "# c)\n",
    "pred_val1 = logit1.predict(X)"
   ]
  },
  {
   "cell_type": "code",
   "execution_count": 280,
   "metadata": {},
   "outputs": [
    {
     "data": {
      "text/plain": [
       "array([[50,  0,  0],\n",
       "       [ 0, 48,  2],\n",
       "       [ 0,  1, 49]])"
      ]
     },
     "execution_count": 280,
     "metadata": {},
     "output_type": "execute_result"
    }
   ],
   "source": [
    "# d) \n",
    "confusion_matrix(Y, pred_val1)"
   ]
  },
  {
   "cell_type": "code",
   "execution_count": 283,
   "metadata": {},
   "outputs": [
    {
     "name": "stdout",
     "output_type": "stream",
     "text": [
      "             precision    recall  f1-score   support\n",
      "\n",
      "          0       1.00      1.00      1.00        50\n",
      "          1       0.98      0.96      0.97        50\n",
      "          2       0.96      0.98      0.97        50\n",
      "\n",
      "avg / total       0.98      0.98      0.98       150\n",
      "\n"
     ]
    }
   ],
   "source": [
    "# e.i) Find precision for class 0\n",
    "print(classification_report(Y, pred_val1, digits=2))\n",
    "\n",
    "\n",
    "# Precision for class 0 is 1"
   ]
  },
  {
   "cell_type": "code",
   "execution_count": 284,
   "metadata": {},
   "outputs": [
    {
     "data": {
      "text/plain": [
       "0.97999999999999998"
      ]
     },
     "execution_count": 284,
     "metadata": {},
     "output_type": "execute_result"
    }
   ],
   "source": [
    "# e.ii) Overall accuracy\n",
    "accuracy_score(Y, pred_val1)"
   ]
  },
  {
   "cell_type": "code",
   "execution_count": 291,
   "metadata": {},
   "outputs": [
    {
     "data": {
      "image/png": "[encoded data removed]",
      "text/plain": [
       "<matplotlib.figure.Figure at 0x2190af69400>"
      ]
     },
     "metadata": {},
     "output_type": "display_data"
    }
   ],
   "source": [
    "# f)\n",
    "n= X.shape[1]# how many eigenvectors we choose\n",
    "pca = PCA(n)\n",
    "X_ = pca.fit_transform(X)\n",
    "plt.scatter(X_[:,0], X_[:,1], c = pred_val1);"
   ]
  },
  {
   "cell_type": "code",
   "execution_count": null,
   "metadata": {
    "collapsed": true
   },
   "outputs": [],
   "source": []
  }
 ],
 "metadata": {
  "anaconda-cloud": {},
  "kernelspec": {
   "display_name": "Python 3",
   "language": "python",
   "name": "python3"
  },
  "language_info": {
   "codemirror_mode": {
    "name": "ipython",
    "version": 3
   },
   "file_extension": ".py",
   "mimetype": "text/x-python",
   "name": "python",
   "nbconvert_exporter": "python",
   "pygments_lexer": "ipython3",
   "version": "3.6.1"
  }
 },
 "nbformat": 4,
 "nbformat_minor": 1
}
